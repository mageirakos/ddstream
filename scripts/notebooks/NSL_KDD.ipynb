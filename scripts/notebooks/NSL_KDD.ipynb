{
  "cells": [
    {
      "cell_type": "code",
      "execution_count": null,
      "metadata": {
        "id": "03GX7wA3zL9K"
      },
      "outputs": [],
      "source": [
        "DATA_PATH = \"data/\""
      ]
    },
    {
      "cell_type": "markdown",
      "metadata": {
        "id": "8pWHp1-Z5tEp"
      },
      "source": [
        "# Standardize NSL-KDD data with z-score"
      ]
    },
    {
      "cell_type": "code",
      "execution_count": null,
      "metadata": {
        "id": "z4TT_qXl0kAk"
      },
      "outputs": [],
      "source": [
        "import pandas as pd"
      ]
    },
    {
      "cell_type": "code",
      "execution_count": null,
      "metadata": {
        "id": "4W2-9s8f6QYk"
      },
      "outputs": [],
      "source": [
        "col_names = ['duration', 'protocol_type', 'service', 'flag', 'src_bytes', 'dst_bytes', 'land', 'wrong_fragment', 'urgent', 'hot', 'num_failed_logins', 'logged_in', 'num_compromised', 'root_shell', 'su_attempted', 'num_root', 'num_file_creations', 'num_shells', 'num_access_files', 'num_outbound_cmds', 'is_host_login', 'is_guest_login', 'count', 'srv_count', 'serror_rate', 'srv_serror_rate', 'rerror_rate', 'srv_rerror_rate', 'same_srv_rate', 'diff_srv_rate', 'srv_diff_host_rate', 'dst_host_count', 'dst_host_srv_count', 'dst_host_same_srv_rate', 'dst_host_diff_srv_rate', 'dst_host_same_src_port_rate', 'dst_host_srv_diff_host_rate', 'dst_host_serror_rate', 'dst_host_srv_serror_rate', 'dst_host_rerror_rate', 'dst_host_srv_rerror_rate', 'cluster', 'difficulty']\n",
        "continious_cols = ['duration', 'src_bytes', 'dst_bytes', 'wrong_fragment', 'urgent', 'hot', 'num_failed_logins', 'num_compromised', 'root_shell', 'su_attempted', 'num_root', 'num_file_creations', 'num_shells', 'num_access_files', 'num_outbound_cmds', 'count', 'srv_count', 'serror_rate', 'srv_serror_rate', 'rerror_rate', 'srv_rerror_rate', 'same_srv_rate', 'diff_srv_rate', 'srv_diff_host_rate', 'dst_host_count', 'dst_host_srv_count', 'dst_host_same_srv_rate', 'dst_host_diff_srv_rate', 'dst_host_same_src_port_rate', 'dst_host_srv_diff_host_rate', 'dst_host_serror_rate', 'dst_host_srv_serror_rate', 'dst_host_rerror_rate', 'dst_host_srv_rerror_rate']"
      ]
    },
    {
      "cell_type": "code",
      "execution_count": null,
      "metadata": {
        "colab": {
          "base_uri": "https://localhost:8080/",
          "height": 299
        },
        "id": "iWv1plna0LuD",
        "outputId": "2001fe4f-0044-47a6-c585-951e44787bc4"
      },
      "outputs": [
        {
          "data": {
            "text/html": [
              "\n",
              "  <div id=\"df-782acfbf-a449-4ff3-8ac7-205f90dd8519\">\n",
              "    <div class=\"colab-df-container\">\n",
              "      <div>\n",
              "<style scoped>\n",
              "    .dataframe tbody tr th:only-of-type {\n",
              "        vertical-align: middle;\n",
              "    }\n",
              "\n",
              "    .dataframe tbody tr th {\n",
              "        vertical-align: top;\n",
              "    }\n",
              "\n",
              "    .dataframe thead th {\n",
              "        text-align: right;\n",
              "    }\n",
              "</style>\n",
              "<table border=\"1\" class=\"dataframe\">\n",
              "  <thead>\n",
              "    <tr style=\"text-align: right;\">\n",
              "      <th></th>\n",
              "      <th>duration</th>\n",
              "      <th>protocol_type</th>\n",
              "      <th>service</th>\n",
              "      <th>flag</th>\n",
              "      <th>src_bytes</th>\n",
              "      <th>dst_bytes</th>\n",
              "      <th>land</th>\n",
              "      <th>wrong_fragment</th>\n",
              "      <th>urgent</th>\n",
              "      <th>hot</th>\n",
              "      <th>...</th>\n",
              "      <th>dst_host_same_srv_rate</th>\n",
              "      <th>dst_host_diff_srv_rate</th>\n",
              "      <th>dst_host_same_src_port_rate</th>\n",
              "      <th>dst_host_srv_diff_host_rate</th>\n",
              "      <th>dst_host_serror_rate</th>\n",
              "      <th>dst_host_srv_serror_rate</th>\n",
              "      <th>dst_host_rerror_rate</th>\n",
              "      <th>dst_host_srv_rerror_rate</th>\n",
              "      <th>cluster</th>\n",
              "      <th>difficulty</th>\n",
              "    </tr>\n",
              "  </thead>\n",
              "  <tbody>\n",
              "    <tr>\n",
              "      <th>0</th>\n",
              "      <td>0</td>\n",
              "      <td>tcp</td>\n",
              "      <td>ftp_data</td>\n",
              "      <td>SF</td>\n",
              "      <td>491</td>\n",
              "      <td>0</td>\n",
              "      <td>0</td>\n",
              "      <td>0</td>\n",
              "      <td>0</td>\n",
              "      <td>0</td>\n",
              "      <td>...</td>\n",
              "      <td>0.17</td>\n",
              "      <td>0.03</td>\n",
              "      <td>0.17</td>\n",
              "      <td>0.00</td>\n",
              "      <td>0.00</td>\n",
              "      <td>0.00</td>\n",
              "      <td>0.05</td>\n",
              "      <td>0.00</td>\n",
              "      <td>normal</td>\n",
              "      <td>20</td>\n",
              "    </tr>\n",
              "    <tr>\n",
              "      <th>1</th>\n",
              "      <td>0</td>\n",
              "      <td>udp</td>\n",
              "      <td>other</td>\n",
              "      <td>SF</td>\n",
              "      <td>146</td>\n",
              "      <td>0</td>\n",
              "      <td>0</td>\n",
              "      <td>0</td>\n",
              "      <td>0</td>\n",
              "      <td>0</td>\n",
              "      <td>...</td>\n",
              "      <td>0.00</td>\n",
              "      <td>0.60</td>\n",
              "      <td>0.88</td>\n",
              "      <td>0.00</td>\n",
              "      <td>0.00</td>\n",
              "      <td>0.00</td>\n",
              "      <td>0.00</td>\n",
              "      <td>0.00</td>\n",
              "      <td>normal</td>\n",
              "      <td>15</td>\n",
              "    </tr>\n",
              "    <tr>\n",
              "      <th>2</th>\n",
              "      <td>0</td>\n",
              "      <td>tcp</td>\n",
              "      <td>private</td>\n",
              "      <td>S0</td>\n",
              "      <td>0</td>\n",
              "      <td>0</td>\n",
              "      <td>0</td>\n",
              "      <td>0</td>\n",
              "      <td>0</td>\n",
              "      <td>0</td>\n",
              "      <td>...</td>\n",
              "      <td>0.10</td>\n",
              "      <td>0.05</td>\n",
              "      <td>0.00</td>\n",
              "      <td>0.00</td>\n",
              "      <td>1.00</td>\n",
              "      <td>1.00</td>\n",
              "      <td>0.00</td>\n",
              "      <td>0.00</td>\n",
              "      <td>neptune</td>\n",
              "      <td>19</td>\n",
              "    </tr>\n",
              "    <tr>\n",
              "      <th>3</th>\n",
              "      <td>0</td>\n",
              "      <td>tcp</td>\n",
              "      <td>http</td>\n",
              "      <td>SF</td>\n",
              "      <td>232</td>\n",
              "      <td>8153</td>\n",
              "      <td>0</td>\n",
              "      <td>0</td>\n",
              "      <td>0</td>\n",
              "      <td>0</td>\n",
              "      <td>...</td>\n",
              "      <td>1.00</td>\n",
              "      <td>0.00</td>\n",
              "      <td>0.03</td>\n",
              "      <td>0.04</td>\n",
              "      <td>0.03</td>\n",
              "      <td>0.01</td>\n",
              "      <td>0.00</td>\n",
              "      <td>0.01</td>\n",
              "      <td>normal</td>\n",
              "      <td>21</td>\n",
              "    </tr>\n",
              "    <tr>\n",
              "      <th>4</th>\n",
              "      <td>0</td>\n",
              "      <td>tcp</td>\n",
              "      <td>http</td>\n",
              "      <td>SF</td>\n",
              "      <td>199</td>\n",
              "      <td>420</td>\n",
              "      <td>0</td>\n",
              "      <td>0</td>\n",
              "      <td>0</td>\n",
              "      <td>0</td>\n",
              "      <td>...</td>\n",
              "      <td>1.00</td>\n",
              "      <td>0.00</td>\n",
              "      <td>0.00</td>\n",
              "      <td>0.00</td>\n",
              "      <td>0.00</td>\n",
              "      <td>0.00</td>\n",
              "      <td>0.00</td>\n",
              "      <td>0.00</td>\n",
              "      <td>normal</td>\n",
              "      <td>21</td>\n",
              "    </tr>\n",
              "  </tbody>\n",
              "</table>\n",
              "<p>5 rows × 43 columns</p>\n",
              "</div>\n",
              "      <button class=\"colab-df-convert\" onclick=\"convertToInteractive('df-782acfbf-a449-4ff3-8ac7-205f90dd8519')\"\n",
              "              title=\"Convert this dataframe to an interactive table.\"\n",
              "              style=\"display:none;\">\n",
              "        \n",
              "  <svg xmlns=\"http://www.w3.org/2000/svg\" height=\"24px\"viewBox=\"0 0 24 24\"\n",
              "       width=\"24px\">\n",
              "    <path d=\"M0 0h24v24H0V0z\" fill=\"none\"/>\n",
              "    <path d=\"M18.56 5.44l.94 2.06.94-2.06 2.06-.94-2.06-.94-.94-2.06-.94 2.06-2.06.94zm-11 1L8.5 8.5l.94-2.06 2.06-.94-2.06-.94L8.5 2.5l-.94 2.06-2.06.94zm10 10l.94 2.06.94-2.06 2.06-.94-2.06-.94-.94-2.06-.94 2.06-2.06.94z\"/><path d=\"M17.41 7.96l-1.37-1.37c-.4-.4-.92-.59-1.43-.59-.52 0-1.04.2-1.43.59L10.3 9.45l-7.72 7.72c-.78.78-.78 2.05 0 2.83L4 21.41c.39.39.9.59 1.41.59.51 0 1.02-.2 1.41-.59l7.78-7.78 2.81-2.81c.8-.78.8-2.07 0-2.86zM5.41 20L4 18.59l7.72-7.72 1.47 1.35L5.41 20z\"/>\n",
              "  </svg>\n",
              "      </button>\n",
              "      \n",
              "  <style>\n",
              "    .colab-df-container {\n",
              "      display:flex;\n",
              "      flex-wrap:wrap;\n",
              "      gap: 12px;\n",
              "    }\n",
              "\n",
              "    .colab-df-convert {\n",
              "      background-color: #E8F0FE;\n",
              "      border: none;\n",
              "      border-radius: 50%;\n",
              "      cursor: pointer;\n",
              "      display: none;\n",
              "      fill: #1967D2;\n",
              "      height: 32px;\n",
              "      padding: 0 0 0 0;\n",
              "      width: 32px;\n",
              "    }\n",
              "\n",
              "    .colab-df-convert:hover {\n",
              "      background-color: #E2EBFA;\n",
              "      box-shadow: 0px 1px 2px rgba(60, 64, 67, 0.3), 0px 1px 3px 1px rgba(60, 64, 67, 0.15);\n",
              "      fill: #174EA6;\n",
              "    }\n",
              "\n",
              "    [theme=dark] .colab-df-convert {\n",
              "      background-color: #3B4455;\n",
              "      fill: #D2E3FC;\n",
              "    }\n",
              "\n",
              "    [theme=dark] .colab-df-convert:hover {\n",
              "      background-color: #434B5C;\n",
              "      box-shadow: 0px 1px 3px 1px rgba(0, 0, 0, 0.15);\n",
              "      filter: drop-shadow(0px 1px 2px rgba(0, 0, 0, 0.3));\n",
              "      fill: #FFFFFF;\n",
              "    }\n",
              "  </style>\n",
              "\n",
              "      <script>\n",
              "        const buttonEl =\n",
              "          document.querySelector('#df-782acfbf-a449-4ff3-8ac7-205f90dd8519 button.colab-df-convert');\n",
              "        buttonEl.style.display =\n",
              "          google.colab.kernel.accessAllowed ? 'block' : 'none';\n",
              "\n",
              "        async function convertToInteractive(key) {\n",
              "          const element = document.querySelector('#df-782acfbf-a449-4ff3-8ac7-205f90dd8519');\n",
              "          const dataTable =\n",
              "            await google.colab.kernel.invokeFunction('convertToInteractive',\n",
              "                                                     [key], {});\n",
              "          if (!dataTable) return;\n",
              "\n",
              "          const docLinkHtml = 'Like what you see? Visit the ' +\n",
              "            '<a target=\"_blank\" href=https://colab.research.google.com/notebooks/data_table.ipynb>data table notebook</a>'\n",
              "            + ' to learn more about interactive tables.';\n",
              "          element.innerHTML = '';\n",
              "          dataTable['output_type'] = 'display_data';\n",
              "          await google.colab.output.renderOutput(dataTable, element);\n",
              "          const docLink = document.createElement('div');\n",
              "          docLink.innerHTML = docLinkHtml;\n",
              "          element.appendChild(docLink);\n",
              "        }\n",
              "      </script>\n",
              "    </div>\n",
              "  </div>\n",
              "  "
            ],
            "text/plain": [
              "   duration protocol_type   service flag  src_bytes  dst_bytes  land  \\\n",
              "0         0           tcp  ftp_data   SF        491          0     0   \n",
              "1         0           udp     other   SF        146          0     0   \n",
              "2         0           tcp   private   S0          0          0     0   \n",
              "3         0           tcp      http   SF        232       8153     0   \n",
              "4         0           tcp      http   SF        199        420     0   \n",
              "\n",
              "   wrong_fragment  urgent  hot  ...  dst_host_same_srv_rate  \\\n",
              "0               0       0    0  ...                    0.17   \n",
              "1               0       0    0  ...                    0.00   \n",
              "2               0       0    0  ...                    0.10   \n",
              "3               0       0    0  ...                    1.00   \n",
              "4               0       0    0  ...                    1.00   \n",
              "\n",
              "   dst_host_diff_srv_rate  dst_host_same_src_port_rate  \\\n",
              "0                    0.03                         0.17   \n",
              "1                    0.60                         0.88   \n",
              "2                    0.05                         0.00   \n",
              "3                    0.00                         0.03   \n",
              "4                    0.00                         0.00   \n",
              "\n",
              "   dst_host_srv_diff_host_rate  dst_host_serror_rate  \\\n",
              "0                         0.00                  0.00   \n",
              "1                         0.00                  0.00   \n",
              "2                         0.00                  1.00   \n",
              "3                         0.04                  0.03   \n",
              "4                         0.00                  0.00   \n",
              "\n",
              "   dst_host_srv_serror_rate  dst_host_rerror_rate  dst_host_srv_rerror_rate  \\\n",
              "0                      0.00                  0.05                      0.00   \n",
              "1                      0.00                  0.00                      0.00   \n",
              "2                      1.00                  0.00                      0.00   \n",
              "3                      0.01                  0.00                      0.01   \n",
              "4                      0.00                  0.00                      0.00   \n",
              "\n",
              "   cluster  difficulty  \n",
              "0   normal          20  \n",
              "1   normal          15  \n",
              "2  neptune          19  \n",
              "3   normal          21  \n",
              "4   normal          21  \n",
              "\n",
              "[5 rows x 43 columns]"
            ]
          },
          "execution_count": 21,
          "metadata": {},
          "output_type": "execute_result"
        }
      ],
      "source": [
        "kdd_df = pd.read_csv(DATA_PATH+'KDDTrain+_20Percent.txt', names=col_names)\n",
        "kdd_df.head()"
      ]
    },
    {
      "cell_type": "code",
      "execution_count": null,
      "metadata": {
        "colab": {
          "base_uri": "https://localhost:8080/"
        },
        "id": "xrQeLaIjoKz5",
        "outputId": "056b669a-d72c-4120-857d-fc8b1b80c4ce"
      },
      "outputs": [
        {
          "name": "stdout",
          "output_type": "stream",
          "text": [
            "<class 'pandas.core.frame.DataFrame'>\n",
            "RangeIndex: 25192 entries, 0 to 25191\n",
            "Data columns (total 34 columns):\n",
            " #   Column                       Non-Null Count  Dtype  \n",
            "---  ------                       --------------  -----  \n",
            " 0   duration                     25192 non-null  int64  \n",
            " 1   src_bytes                    25192 non-null  int64  \n",
            " 2   dst_bytes                    25192 non-null  int64  \n",
            " 3   wrong_fragment               25192 non-null  int64  \n",
            " 4   urgent                       25192 non-null  int64  \n",
            " 5   hot                          25192 non-null  int64  \n",
            " 6   num_failed_logins            25192 non-null  int64  \n",
            " 7   num_compromised              25192 non-null  int64  \n",
            " 8   root_shell                   25192 non-null  int64  \n",
            " 9   su_attempted                 25192 non-null  int64  \n",
            " 10  num_root                     25192 non-null  int64  \n",
            " 11  num_file_creations           25192 non-null  int64  \n",
            " 12  num_shells                   25192 non-null  int64  \n",
            " 13  num_access_files             25192 non-null  int64  \n",
            " 14  num_outbound_cmds            25192 non-null  int64  \n",
            " 15  count                        25192 non-null  int64  \n",
            " 16  srv_count                    25192 non-null  int64  \n",
            " 17  serror_rate                  25192 non-null  float64\n",
            " 18  srv_serror_rate              25192 non-null  float64\n",
            " 19  rerror_rate                  25192 non-null  float64\n",
            " 20  srv_rerror_rate              25192 non-null  float64\n",
            " 21  same_srv_rate                25192 non-null  float64\n",
            " 22  diff_srv_rate                25192 non-null  float64\n",
            " 23  srv_diff_host_rate           25192 non-null  float64\n",
            " 24  dst_host_count               25192 non-null  int64  \n",
            " 25  dst_host_srv_count           25192 non-null  int64  \n",
            " 26  dst_host_same_srv_rate       25192 non-null  float64\n",
            " 27  dst_host_diff_srv_rate       25192 non-null  float64\n",
            " 28  dst_host_same_src_port_rate  25192 non-null  float64\n",
            " 29  dst_host_srv_diff_host_rate  25192 non-null  float64\n",
            " 30  dst_host_serror_rate         25192 non-null  float64\n",
            " 31  dst_host_srv_serror_rate     25192 non-null  float64\n",
            " 32  dst_host_rerror_rate         25192 non-null  float64\n",
            " 33  dst_host_srv_rerror_rate     25192 non-null  float64\n",
            "dtypes: float64(15), int64(19)\n",
            "memory usage: 6.5 MB\n"
          ]
        }
      ],
      "source": [
        "kdd_34_cols = kdd_df.filter(['duration', 'src_bytes', 'dst_bytes', 'wrong_fragment', 'urgent', 'hot', 'num_failed_logins', 'num_compromised', 'root_shell', 'su_attempted', 'num_root', 'num_file_creations', 'num_shells', 'num_access_files', 'num_outbound_cmds', 'count', 'srv_count', 'serror_rate', 'srv_serror_rate', 'rerror_rate', 'srv_rerror_rate', 'same_srv_rate', 'diff_srv_rate', 'srv_diff_host_rate', 'dst_host_count', 'dst_host_srv_count', 'dst_host_same_srv_rate', 'dst_host_diff_srv_rate', 'dst_host_same_src_port_rate', 'dst_host_srv_diff_host_rate', 'dst_host_serror_rate', 'dst_host_srv_serror_rate', 'dst_host_rerror_rate', 'dst_host_srv_rerror_rate'], axis=1)\n",
        "kdd_34_cols.info()"
      ]
    },
    {
      "cell_type": "code",
      "execution_count": null,
      "metadata": {
        "colab": {
          "base_uri": "https://localhost:8080/"
        },
        "id": "DiqtyZXzAvrk",
        "outputId": "dde85e7d-e404-443c-d543-dbe0a4d468e7"
      },
      "outputs": [
        {
          "data": {
            "text/plain": [
              "array([1, 2, 3, 4, 5])"
            ]
          },
          "execution_count": 3,
          "metadata": {},
          "output_type": "execute_result"
        }
      ],
      "source": [
        "import numpy as np\n",
        "\n",
        "a = \"1,2,3,4,5\"\n",
        "b = a.split(\",\")\n",
        "np.array(b).astype(int)"
      ]
    },
    {
      "cell_type": "code",
      "execution_count": null,
      "metadata": {
        "id": "hNeJNrP_x0m2"
      },
      "outputs": [],
      "source": [
        "Y = kdd_df['cluster'] # label\n",
        "X = kdd_34_cols\n",
        "df = kdd_34_cols # df includes label\n",
        "df['cluster'] = Y\n",
        "# for some reason in nsl-kdd num_outbound_cmds is NaN when scaled\n",
        "# so we end up with 33 cols + label\n",
        "df = df.drop(columns=['num_outbound_cmds']) "
      ]
    },
    {
      "cell_type": "code",
      "execution_count": null,
      "metadata": {
        "colab": {
          "base_uri": "https://localhost:8080/"
        },
        "id": "aSM59MPNK5-8",
        "outputId": "a899e70f-32b9-4a16-fbb9-808c62a5394d"
      },
      "outputs": [
        {
          "data": {
            "text/plain": [
              "Index(['duration', 'src_bytes', 'dst_bytes', 'wrong_fragment', 'urgent', 'hot',\n",
              "       'num_failed_logins', 'num_compromised', 'root_shell', 'su_attempted',\n",
              "       'num_root', 'num_file_creations', 'num_shells', 'num_access_files',\n",
              "       'count', 'srv_count', 'serror_rate', 'srv_serror_rate', 'rerror_rate',\n",
              "       'srv_rerror_rate', 'same_srv_rate', 'diff_srv_rate',\n",
              "       'srv_diff_host_rate', 'dst_host_count', 'dst_host_srv_count',\n",
              "       'dst_host_same_srv_rate', 'dst_host_diff_srv_rate',\n",
              "       'dst_host_same_src_port_rate', 'dst_host_srv_diff_host_rate',\n",
              "       'dst_host_serror_rate', 'dst_host_srv_serror_rate',\n",
              "       'dst_host_rerror_rate', 'dst_host_srv_rerror_rate', 'cluster'],\n",
              "      dtype='object')"
            ]
          },
          "execution_count": 68,
          "metadata": {},
          "output_type": "execute_result"
        }
      ],
      "source": [
        "df.columns"
      ]
    },
    {
      "cell_type": "code",
      "execution_count": null,
      "metadata": {
        "id": "aOghn6Nj7euZ"
      },
      "outputs": [],
      "source": [
        "# apply the z-score method in Pandas using the .mean() and .std() methods\n",
        "def z_score(df):\n",
        "    # copy the dataframe\n",
        "    df_std = df.copy()\n",
        "    # apply the z-score method\n",
        "    for column in df_std.select_dtypes(exclude=['object']).columns: # don't scale the label...\n",
        "        df_std[column] = (df_std[column] - df_std[column].mean()) / df_std[column].std()\n",
        "        \n",
        "    return df_std"
      ]
    },
    {
      "cell_type": "code",
      "execution_count": null,
      "metadata": {
        "colab": {
          "base_uri": "https://localhost:8080/",
          "height": 299
        },
        "id": "iDv0ddlDys5l",
        "outputId": "241ba3b8-4e58-40a8-94cd-cbb93c4aa235"
      },
      "outputs": [
        {
          "data": {
            "text/html": [
              "\n",
              "  <div id=\"df-e76d57f8-8ec2-4271-8d45-b1c5f295ebf0\">\n",
              "    <div class=\"colab-df-container\">\n",
              "      <div>\n",
              "<style scoped>\n",
              "    .dataframe tbody tr th:only-of-type {\n",
              "        vertical-align: middle;\n",
              "    }\n",
              "\n",
              "    .dataframe tbody tr th {\n",
              "        vertical-align: top;\n",
              "    }\n",
              "\n",
              "    .dataframe thead th {\n",
              "        text-align: right;\n",
              "    }\n",
              "</style>\n",
              "<table border=\"1\" class=\"dataframe\">\n",
              "  <thead>\n",
              "    <tr style=\"text-align: right;\">\n",
              "      <th></th>\n",
              "      <th>duration</th>\n",
              "      <th>src_bytes</th>\n",
              "      <th>dst_bytes</th>\n",
              "      <th>wrong_fragment</th>\n",
              "      <th>urgent</th>\n",
              "      <th>hot</th>\n",
              "      <th>num_failed_logins</th>\n",
              "      <th>num_compromised</th>\n",
              "      <th>root_shell</th>\n",
              "      <th>su_attempted</th>\n",
              "      <th>...</th>\n",
              "      <th>dst_host_srv_count</th>\n",
              "      <th>dst_host_same_srv_rate</th>\n",
              "      <th>dst_host_diff_srv_rate</th>\n",
              "      <th>dst_host_same_src_port_rate</th>\n",
              "      <th>dst_host_srv_diff_host_rate</th>\n",
              "      <th>dst_host_serror_rate</th>\n",
              "      <th>dst_host_srv_serror_rate</th>\n",
              "      <th>dst_host_rerror_rate</th>\n",
              "      <th>dst_host_srv_rerror_rate</th>\n",
              "      <th>cluster</th>\n",
              "    </tr>\n",
              "  </thead>\n",
              "  <tbody>\n",
              "    <tr>\n",
              "      <th>0</th>\n",
              "      <td>-0.113548</td>\n",
              "      <td>-0.009889</td>\n",
              "      <td>-0.039309</td>\n",
              "      <td>-0.091221</td>\n",
              "      <td>-0.0063</td>\n",
              "      <td>-0.091932</td>\n",
              "      <td>-0.02622</td>\n",
              "      <td>-0.021872</td>\n",
              "      <td>-0.039376</td>\n",
              "      <td>-0.027665</td>\n",
              "      <td>...</td>\n",
              "      <td>-0.813968</td>\n",
              "      <td>-0.779141</td>\n",
              "      <td>-0.280668</td>\n",
              "      <td>0.073118</td>\n",
              "      <td>-0.287988</td>\n",
              "      <td>-0.641791</td>\n",
              "      <td>-0.627352</td>\n",
              "      <td>-0.221664</td>\n",
              "      <td>-0.374273</td>\n",
              "      <td>normal</td>\n",
              "    </tr>\n",
              "    <tr>\n",
              "      <th>1</th>\n",
              "      <td>-0.113548</td>\n",
              "      <td>-0.010032</td>\n",
              "      <td>-0.039309</td>\n",
              "      <td>-0.091221</td>\n",
              "      <td>-0.0063</td>\n",
              "      <td>-0.091932</td>\n",
              "      <td>-0.02622</td>\n",
              "      <td>-0.021872</td>\n",
              "      <td>-0.039376</td>\n",
              "      <td>-0.027665</td>\n",
              "      <td>...</td>\n",
              "      <td>-1.030875</td>\n",
              "      <td>-1.157808</td>\n",
              "      <td>2.764349</td>\n",
              "      <td>2.375573</td>\n",
              "      <td>-0.287988</td>\n",
              "      <td>-0.641791</td>\n",
              "      <td>-0.627352</td>\n",
              "      <td>-0.385132</td>\n",
              "      <td>-0.374273</td>\n",
              "      <td>normal</td>\n",
              "    </tr>\n",
              "    <tr>\n",
              "      <th>2</th>\n",
              "      <td>-0.113548</td>\n",
              "      <td>-0.010092</td>\n",
              "      <td>-0.039309</td>\n",
              "      <td>-0.091221</td>\n",
              "      <td>-0.0063</td>\n",
              "      <td>-0.091932</td>\n",
              "      <td>-0.02622</td>\n",
              "      <td>-0.021872</td>\n",
              "      <td>-0.039376</td>\n",
              "      <td>-0.027665</td>\n",
              "      <td>...</td>\n",
              "      <td>-0.804931</td>\n",
              "      <td>-0.935063</td>\n",
              "      <td>-0.173825</td>\n",
              "      <td>-0.478174</td>\n",
              "      <td>-0.287988</td>\n",
              "      <td>1.603803</td>\n",
              "      <td>1.614422</td>\n",
              "      <td>-0.385132</td>\n",
              "      <td>-0.374273</td>\n",
              "      <td>neptune</td>\n",
              "    </tr>\n",
              "    <tr>\n",
              "      <th>3</th>\n",
              "      <td>-0.113548</td>\n",
              "      <td>-0.009996</td>\n",
              "      <td>0.052472</td>\n",
              "      <td>-0.091221</td>\n",
              "      <td>-0.0063</td>\n",
              "      <td>-0.091932</td>\n",
              "      <td>-0.02622</td>\n",
              "      <td>-0.021872</td>\n",
              "      <td>-0.039376</td>\n",
              "      <td>-0.027665</td>\n",
              "      <td>...</td>\n",
              "      <td>1.264717</td>\n",
              "      <td>1.069642</td>\n",
              "      <td>-0.440932</td>\n",
              "      <td>-0.380887</td>\n",
              "      <td>0.073758</td>\n",
              "      <td>-0.574424</td>\n",
              "      <td>-0.604935</td>\n",
              "      <td>-0.385132</td>\n",
              "      <td>-0.342761</td>\n",
              "      <td>normal</td>\n",
              "    </tr>\n",
              "    <tr>\n",
              "      <th>4</th>\n",
              "      <td>-0.113548</td>\n",
              "      <td>-0.010010</td>\n",
              "      <td>-0.034581</td>\n",
              "      <td>-0.091221</td>\n",
              "      <td>-0.0063</td>\n",
              "      <td>-0.091932</td>\n",
              "      <td>-0.02622</td>\n",
              "      <td>-0.021872</td>\n",
              "      <td>-0.039376</td>\n",
              "      <td>-0.027665</td>\n",
              "      <td>...</td>\n",
              "      <td>1.264717</td>\n",
              "      <td>1.069642</td>\n",
              "      <td>-0.440932</td>\n",
              "      <td>-0.478174</td>\n",
              "      <td>-0.287988</td>\n",
              "      <td>-0.641791</td>\n",
              "      <td>-0.627352</td>\n",
              "      <td>-0.385132</td>\n",
              "      <td>-0.374273</td>\n",
              "      <td>normal</td>\n",
              "    </tr>\n",
              "  </tbody>\n",
              "</table>\n",
              "<p>5 rows × 34 columns</p>\n",
              "</div>\n",
              "      <button class=\"colab-df-convert\" onclick=\"convertToInteractive('df-e76d57f8-8ec2-4271-8d45-b1c5f295ebf0')\"\n",
              "              title=\"Convert this dataframe to an interactive table.\"\n",
              "              style=\"display:none;\">\n",
              "        \n",
              "  <svg xmlns=\"http://www.w3.org/2000/svg\" height=\"24px\"viewBox=\"0 0 24 24\"\n",
              "       width=\"24px\">\n",
              "    <path d=\"M0 0h24v24H0V0z\" fill=\"none\"/>\n",
              "    <path d=\"M18.56 5.44l.94 2.06.94-2.06 2.06-.94-2.06-.94-.94-2.06-.94 2.06-2.06.94zm-11 1L8.5 8.5l.94-2.06 2.06-.94-2.06-.94L8.5 2.5l-.94 2.06-2.06.94zm10 10l.94 2.06.94-2.06 2.06-.94-2.06-.94-.94-2.06-.94 2.06-2.06.94z\"/><path d=\"M17.41 7.96l-1.37-1.37c-.4-.4-.92-.59-1.43-.59-.52 0-1.04.2-1.43.59L10.3 9.45l-7.72 7.72c-.78.78-.78 2.05 0 2.83L4 21.41c.39.39.9.59 1.41.59.51 0 1.02-.2 1.41-.59l7.78-7.78 2.81-2.81c.8-.78.8-2.07 0-2.86zM5.41 20L4 18.59l7.72-7.72 1.47 1.35L5.41 20z\"/>\n",
              "  </svg>\n",
              "      </button>\n",
              "      \n",
              "  <style>\n",
              "    .colab-df-container {\n",
              "      display:flex;\n",
              "      flex-wrap:wrap;\n",
              "      gap: 12px;\n",
              "    }\n",
              "\n",
              "    .colab-df-convert {\n",
              "      background-color: #E8F0FE;\n",
              "      border: none;\n",
              "      border-radius: 50%;\n",
              "      cursor: pointer;\n",
              "      display: none;\n",
              "      fill: #1967D2;\n",
              "      height: 32px;\n",
              "      padding: 0 0 0 0;\n",
              "      width: 32px;\n",
              "    }\n",
              "\n",
              "    .colab-df-convert:hover {\n",
              "      background-color: #E2EBFA;\n",
              "      box-shadow: 0px 1px 2px rgba(60, 64, 67, 0.3), 0px 1px 3px 1px rgba(60, 64, 67, 0.15);\n",
              "      fill: #174EA6;\n",
              "    }\n",
              "\n",
              "    [theme=dark] .colab-df-convert {\n",
              "      background-color: #3B4455;\n",
              "      fill: #D2E3FC;\n",
              "    }\n",
              "\n",
              "    [theme=dark] .colab-df-convert:hover {\n",
              "      background-color: #434B5C;\n",
              "      box-shadow: 0px 1px 3px 1px rgba(0, 0, 0, 0.15);\n",
              "      filter: drop-shadow(0px 1px 2px rgba(0, 0, 0, 0.3));\n",
              "      fill: #FFFFFF;\n",
              "    }\n",
              "  </style>\n",
              "\n",
              "      <script>\n",
              "        const buttonEl =\n",
              "          document.querySelector('#df-e76d57f8-8ec2-4271-8d45-b1c5f295ebf0 button.colab-df-convert');\n",
              "        buttonEl.style.display =\n",
              "          google.colab.kernel.accessAllowed ? 'block' : 'none';\n",
              "\n",
              "        async function convertToInteractive(key) {\n",
              "          const element = document.querySelector('#df-e76d57f8-8ec2-4271-8d45-b1c5f295ebf0');\n",
              "          const dataTable =\n",
              "            await google.colab.kernel.invokeFunction('convertToInteractive',\n",
              "                                                     [key], {});\n",
              "          if (!dataTable) return;\n",
              "\n",
              "          const docLinkHtml = 'Like what you see? Visit the ' +\n",
              "            '<a target=\"_blank\" href=https://colab.research.google.com/notebooks/data_table.ipynb>data table notebook</a>'\n",
              "            + ' to learn more about interactive tables.';\n",
              "          element.innerHTML = '';\n",
              "          dataTable['output_type'] = 'display_data';\n",
              "          await google.colab.output.renderOutput(dataTable, element);\n",
              "          const docLink = document.createElement('div');\n",
              "          docLink.innerHTML = docLinkHtml;\n",
              "          element.appendChild(docLink);\n",
              "        }\n",
              "      </script>\n",
              "    </div>\n",
              "  </div>\n",
              "  "
            ],
            "text/plain": [
              "   duration  src_bytes  dst_bytes  wrong_fragment  urgent       hot  \\\n",
              "0 -0.113548  -0.009889  -0.039309       -0.091221 -0.0063 -0.091932   \n",
              "1 -0.113548  -0.010032  -0.039309       -0.091221 -0.0063 -0.091932   \n",
              "2 -0.113548  -0.010092  -0.039309       -0.091221 -0.0063 -0.091932   \n",
              "3 -0.113548  -0.009996   0.052472       -0.091221 -0.0063 -0.091932   \n",
              "4 -0.113548  -0.010010  -0.034581       -0.091221 -0.0063 -0.091932   \n",
              "\n",
              "   num_failed_logins  num_compromised  root_shell  su_attempted  ...  \\\n",
              "0           -0.02622        -0.021872   -0.039376     -0.027665  ...   \n",
              "1           -0.02622        -0.021872   -0.039376     -0.027665  ...   \n",
              "2           -0.02622        -0.021872   -0.039376     -0.027665  ...   \n",
              "3           -0.02622        -0.021872   -0.039376     -0.027665  ...   \n",
              "4           -0.02622        -0.021872   -0.039376     -0.027665  ...   \n",
              "\n",
              "   dst_host_srv_count  dst_host_same_srv_rate  dst_host_diff_srv_rate  \\\n",
              "0           -0.813968               -0.779141               -0.280668   \n",
              "1           -1.030875               -1.157808                2.764349   \n",
              "2           -0.804931               -0.935063               -0.173825   \n",
              "3            1.264717                1.069642               -0.440932   \n",
              "4            1.264717                1.069642               -0.440932   \n",
              "\n",
              "   dst_host_same_src_port_rate  dst_host_srv_diff_host_rate  \\\n",
              "0                     0.073118                    -0.287988   \n",
              "1                     2.375573                    -0.287988   \n",
              "2                    -0.478174                    -0.287988   \n",
              "3                    -0.380887                     0.073758   \n",
              "4                    -0.478174                    -0.287988   \n",
              "\n",
              "   dst_host_serror_rate  dst_host_srv_serror_rate  dst_host_rerror_rate  \\\n",
              "0             -0.641791                 -0.627352             -0.221664   \n",
              "1             -0.641791                 -0.627352             -0.385132   \n",
              "2              1.603803                  1.614422             -0.385132   \n",
              "3             -0.574424                 -0.604935             -0.385132   \n",
              "4             -0.641791                 -0.627352             -0.385132   \n",
              "\n",
              "   dst_host_srv_rerror_rate  cluster  \n",
              "0                 -0.374273   normal  \n",
              "1                 -0.374273   normal  \n",
              "2                 -0.374273  neptune  \n",
              "3                 -0.342761   normal  \n",
              "4                 -0.374273   normal  \n",
              "\n",
              "[5 rows x 34 columns]"
            ]
          },
          "execution_count": 53,
          "metadata": {},
          "output_type": "execute_result"
        }
      ],
      "source": [
        "# z score scaling ( 2 columns create nan)\n",
        "df2 = z_score(df)\n",
        "df2.head()"
      ]
    },
    {
      "cell_type": "code",
      "execution_count": null,
      "metadata": {
        "id": "y43qoRfY9_Ff"
      },
      "outputs": [],
      "source": [
        "# save\n",
        "df.to_csv(DATA_PATH+'nsl-kdd-clean.txt', index=False, header=False)\n",
        "df2.to_csv(DATA_PATH+'nsl-kdd-clean-scaled.txt', index=False, header=False)\n",
        "# with header (for river DenStream)\n",
        "df.to_csv(DATA_PATH+'nsl-kdd-clean-header.txt', index=False)\n",
        "df2.to_csv(DATA_PATH+'nsl-kdd-clean-scaled-header.txt', index=False)"
      ]
    },
    {
      "cell_type": "markdown",
      "metadata": {
        "id": "XLQQ_h1zTATS"
      },
      "source": [
        "### Get dictionary needed during predict in RIVER DenStream"
      ]
    },
    {
      "cell_type": "code",
      "execution_count": null,
      "metadata": {
        "id": "9j9Gxy2QPtlA"
      },
      "outputs": [],
      "source": [
        "from collections import OrderedDict"
      ]
    },
    {
      "cell_type": "code",
      "execution_count": null,
      "metadata": {
        "id": "PVwloOAAPxfH"
      },
      "outputs": [],
      "source": [
        "b = OrderedDict()\n",
        "#TODO: idk what a was here fix later\n",
        "for x,y in zip(a.columns, a.iloc[0,:]):\n",
        "    b[x] = y\n",
        "print(b)"
      ]
    },
    {
      "cell_type": "markdown",
      "metadata": {
        "id": "Kx1xbrxnhYpw"
      },
      "source": [
        "### Plot data"
      ]
    },
    {
      "cell_type": "code",
      "execution_count": null,
      "metadata": {
        "id": "t4s8D6b2hb3B"
      },
      "outputs": [],
      "source": [
        "import matplotlib.pyplot as plt\n",
        "from sklearn.manifold import TSNE\n",
        "import seaborn as sns\n",
        "import colorcet as cc #palette"
      ]
    },
    {
      "cell_type": "code",
      "execution_count": null,
      "metadata": {
        "colab": {
          "base_uri": "https://localhost:8080/"
        },
        "id": "uX1BYKGDkvWV",
        "outputId": "b4f8e04c-7eec-4e09-c426-2019e7907b20"
      },
      "outputs": [
        {
          "data": {
            "text/plain": [
              "normal             13449\n",
              "neptune             8282\n",
              "ipsweep              710\n",
              "satan                691\n",
              "portsweep            587\n",
              "smurf                529\n",
              "nmap                 301\n",
              "back                 196\n",
              "teardrop             188\n",
              "warezclient          181\n",
              "pod                   38\n",
              "guess_passwd          10\n",
              "warezmaster            7\n",
              "buffer_overflow        6\n",
              "imap                   5\n",
              "rootkit                4\n",
              "multihop               2\n",
              "phf                    2\n",
              "ftp_write              1\n",
              "land                   1\n",
              "loadmodule             1\n",
              "spy                    1\n",
              "Name: cluster, dtype: int64"
            ]
          },
          "execution_count": 61,
          "metadata": {},
          "output_type": "execute_result"
        }
      ],
      "source": [
        "Y.value_counts()"
      ]
    },
    {
      "cell_type": "code",
      "execution_count": null,
      "metadata": {
        "id": "qZk1Cg-kuMiQ"
      },
      "outputs": [],
      "source": [
        "rand_state = 123"
      ]
    },
    {
      "cell_type": "code",
      "execution_count": null,
      "metadata": {
        "colab": {
          "base_uri": "https://localhost:8080/"
        },
        "id": "k9Cll0c4pPxq",
        "outputId": "99adc283-d6d4-42fa-e17c-7668009e4833"
      },
      "outputs": [
        {
          "name": "stdout",
          "output_type": "stream",
          "text": [
            "<class 'pandas.core.frame.DataFrame'>\n",
            "RangeIndex: 25192 entries, 0 to 25191\n",
            "Data columns (total 34 columns):\n",
            " #   Column                       Non-Null Count  Dtype  \n",
            "---  ------                       --------------  -----  \n",
            " 0   duration                     25192 non-null  float64\n",
            " 1   src_bytes                    25192 non-null  float64\n",
            " 2   dst_bytes                    25192 non-null  float64\n",
            " 3   wrong_fragment               25192 non-null  float64\n",
            " 4   urgent                       25192 non-null  float64\n",
            " 5   hot                          25192 non-null  float64\n",
            " 6   num_failed_logins            25192 non-null  float64\n",
            " 7   num_compromised              25192 non-null  float64\n",
            " 8   root_shell                   25192 non-null  float64\n",
            " 9   su_attempted                 25192 non-null  float64\n",
            " 10  num_root                     25192 non-null  float64\n",
            " 11  num_file_creations           25192 non-null  float64\n",
            " 12  num_shells                   25192 non-null  float64\n",
            " 13  num_access_files             25192 non-null  float64\n",
            " 14  count                        25192 non-null  float64\n",
            " 15  srv_count                    25192 non-null  float64\n",
            " 16  serror_rate                  25192 non-null  float64\n",
            " 17  srv_serror_rate              25192 non-null  float64\n",
            " 18  rerror_rate                  25192 non-null  float64\n",
            " 19  srv_rerror_rate              25192 non-null  float64\n",
            " 20  same_srv_rate                25192 non-null  float64\n",
            " 21  diff_srv_rate                25192 non-null  float64\n",
            " 22  srv_diff_host_rate           25192 non-null  float64\n",
            " 23  dst_host_count               25192 non-null  float64\n",
            " 24  dst_host_srv_count           25192 non-null  float64\n",
            " 25  dst_host_same_srv_rate       25192 non-null  float64\n",
            " 26  dst_host_diff_srv_rate       25192 non-null  float64\n",
            " 27  dst_host_same_src_port_rate  25192 non-null  float64\n",
            " 28  dst_host_srv_diff_host_rate  25192 non-null  float64\n",
            " 29  dst_host_serror_rate         25192 non-null  float64\n",
            " 30  dst_host_srv_serror_rate     25192 non-null  float64\n",
            " 31  dst_host_rerror_rate         25192 non-null  float64\n",
            " 32  dst_host_srv_rerror_rate     25192 non-null  float64\n",
            " 33  cluster                      25192 non-null  object \n",
            "dtypes: float64(33), object(1)\n",
            "memory usage: 6.5+ MB\n"
          ]
        }
      ],
      "source": [
        "df2.info()"
      ]
    },
    {
      "cell_type": "code",
      "execution_count": null,
      "metadata": {
        "colab": {
          "base_uri": "https://localhost:8080/"
        },
        "id": "QuKOSY4vpK9Q",
        "outputId": "f8d28e1f-72e8-4b44-be13-1e0eb089565e"
      },
      "outputs": [
        {
          "data": {
            "text/plain": [
              "False"
            ]
          },
          "execution_count": 62,
          "metadata": {},
          "output_type": "execute_result"
        }
      ],
      "source": [
        "df2.isnull().values.any()"
      ]
    },
    {
      "cell_type": "code",
      "execution_count": null,
      "metadata": {
        "colab": {
          "base_uri": "https://localhost:8080/"
        },
        "id": "TAjRv4rLmCO1",
        "outputId": "3021eef4-9d98-4e94-838f-e6c61e8141f0"
      },
      "outputs": [
        {
          "name": "stderr",
          "output_type": "stream",
          "text": [
            "/usr/local/lib/python3.7/dist-packages/sklearn/manifold/_t_sne.py:783: FutureWarning: The default initialization in TSNE will change from 'random' to 'pca' in 1.2.\n",
            "  FutureWarning,\n",
            "/usr/local/lib/python3.7/dist-packages/sklearn/manifold/_t_sne.py:793: FutureWarning: The default learning rate in TSNE will change from 200.0 to 'auto' in 1.2.\n",
            "  FutureWarning,\n"
          ]
        },
        {
          "name": "stdout",
          "output_type": "stream",
          "text": [
            "[t-SNE] Computing 91 nearest neighbors...\n",
            "[t-SNE] Indexed 25192 samples in 0.001s...\n",
            "[t-SNE] Computed neighbors for 25192 samples in 19.520s...\n",
            "[t-SNE] Computed conditional probabilities for sample 1000 / 25192\n",
            "[t-SNE] Computed conditional probabilities for sample 2000 / 25192\n",
            "[t-SNE] Computed conditional probabilities for sample 3000 / 25192\n",
            "[t-SNE] Computed conditional probabilities for sample 4000 / 25192\n",
            "[t-SNE] Computed conditional probabilities for sample 5000 / 25192\n",
            "[t-SNE] Computed conditional probabilities for sample 6000 / 25192\n",
            "[t-SNE] Computed conditional probabilities for sample 7000 / 25192\n",
            "[t-SNE] Computed conditional probabilities for sample 8000 / 25192\n",
            "[t-SNE] Computed conditional probabilities for sample 9000 / 25192\n",
            "[t-SNE] Computed conditional probabilities for sample 10000 / 25192\n",
            "[t-SNE] Computed conditional probabilities for sample 11000 / 25192\n",
            "[t-SNE] Computed conditional probabilities for sample 12000 / 25192\n",
            "[t-SNE] Computed conditional probabilities for sample 13000 / 25192\n",
            "[t-SNE] Computed conditional probabilities for sample 14000 / 25192\n",
            "[t-SNE] Computed conditional probabilities for sample 15000 / 25192\n",
            "[t-SNE] Computed conditional probabilities for sample 16000 / 25192\n",
            "[t-SNE] Computed conditional probabilities for sample 17000 / 25192\n",
            "[t-SNE] Computed conditional probabilities for sample 18000 / 25192\n",
            "[t-SNE] Computed conditional probabilities for sample 19000 / 25192\n",
            "[t-SNE] Computed conditional probabilities for sample 20000 / 25192\n",
            "[t-SNE] Computed conditional probabilities for sample 21000 / 25192\n",
            "[t-SNE] Computed conditional probabilities for sample 22000 / 25192\n",
            "[t-SNE] Computed conditional probabilities for sample 23000 / 25192\n",
            "[t-SNE] Computed conditional probabilities for sample 24000 / 25192\n",
            "[t-SNE] Computed conditional probabilities for sample 25000 / 25192\n",
            "[t-SNE] Computed conditional probabilities for sample 25192 / 25192\n",
            "[t-SNE] Mean sigma: 0.045614\n",
            "[t-SNE] KL divergence after 250 iterations with early exaggeration: 76.729202\n",
            "[t-SNE] KL divergence after 1000 iterations: 1.110569\n"
          ]
        }
      ],
      "source": [
        "# scaled\n",
        "x_scaled = df2.iloc[:,:-1].values\n",
        "tsne_scaled = TSNE(n_components=2, verbose=1, random_state=rand_state)\n",
        "z_scaled = tsne_scaled.fit_transform(x_scaled) "
      ]
    },
    {
      "cell_type": "code",
      "execution_count": null,
      "metadata": {
        "colab": {
          "base_uri": "https://localhost:8080/"
        },
        "id": "4xU1a70Th9dX",
        "outputId": "ca77476e-ded1-4dc2-e82b-49f838cce9b9"
      },
      "outputs": [
        {
          "name": "stdout",
          "output_type": "stream",
          "text": [
            "[t-SNE] Computing 91 nearest neighbors...\n",
            "[t-SNE] Indexed 25192 samples in 0.001s...\n"
          ]
        },
        {
          "name": "stderr",
          "output_type": "stream",
          "text": [
            "/usr/local/lib/python3.7/dist-packages/sklearn/manifold/_t_sne.py:783: FutureWarning: The default initialization in TSNE will change from 'random' to 'pca' in 1.2.\n",
            "  FutureWarning,\n",
            "/usr/local/lib/python3.7/dist-packages/sklearn/manifold/_t_sne.py:793: FutureWarning: The default learning rate in TSNE will change from 200.0 to 'auto' in 1.2.\n",
            "  FutureWarning,\n"
          ]
        },
        {
          "name": "stdout",
          "output_type": "stream",
          "text": [
            "[t-SNE] Computed neighbors for 25192 samples in 13.378s...\n",
            "[t-SNE] Computed conditional probabilities for sample 1000 / 25192\n",
            "[t-SNE] Computed conditional probabilities for sample 2000 / 25192\n",
            "[t-SNE] Computed conditional probabilities for sample 3000 / 25192\n",
            "[t-SNE] Computed conditional probabilities for sample 4000 / 25192\n",
            "[t-SNE] Computed conditional probabilities for sample 5000 / 25192\n",
            "[t-SNE] Computed conditional probabilities for sample 6000 / 25192\n",
            "[t-SNE] Computed conditional probabilities for sample 7000 / 25192\n",
            "[t-SNE] Computed conditional probabilities for sample 8000 / 25192\n",
            "[t-SNE] Computed conditional probabilities for sample 9000 / 25192\n",
            "[t-SNE] Computed conditional probabilities for sample 10000 / 25192\n",
            "[t-SNE] Computed conditional probabilities for sample 11000 / 25192\n",
            "[t-SNE] Computed conditional probabilities for sample 12000 / 25192\n",
            "[t-SNE] Computed conditional probabilities for sample 13000 / 25192\n",
            "[t-SNE] Computed conditional probabilities for sample 14000 / 25192\n",
            "[t-SNE] Computed conditional probabilities for sample 15000 / 25192\n",
            "[t-SNE] Computed conditional probabilities for sample 16000 / 25192\n",
            "[t-SNE] Computed conditional probabilities for sample 17000 / 25192\n",
            "[t-SNE] Computed conditional probabilities for sample 18000 / 25192\n",
            "[t-SNE] Computed conditional probabilities for sample 19000 / 25192\n",
            "[t-SNE] Computed conditional probabilities for sample 20000 / 25192\n",
            "[t-SNE] Computed conditional probabilities for sample 21000 / 25192\n",
            "[t-SNE] Computed conditional probabilities for sample 22000 / 25192\n",
            "[t-SNE] Computed conditional probabilities for sample 23000 / 25192\n",
            "[t-SNE] Computed conditional probabilities for sample 24000 / 25192\n",
            "[t-SNE] Computed conditional probabilities for sample 25000 / 25192\n",
            "[t-SNE] Computed conditional probabilities for sample 25192 / 25192\n",
            "[t-SNE] Mean sigma: 1.163608\n",
            "[t-SNE] KL divergence after 250 iterations with early exaggeration: 75.020790\n",
            "[t-SNE] KL divergence after 1000 iterations: 1.009254\n"
          ]
        }
      ],
      "source": [
        "x = df.iloc[:,:-1].values\n",
        "tsne = TSNE(n_components=2, verbose=1, random_state=rand_state)\n",
        "z = tsne.fit_transform(x) "
      ]
    },
    {
      "cell_type": "code",
      "execution_count": null,
      "metadata": {
        "colab": {
          "base_uri": "https://localhost:8080/",
          "height": 258
        },
        "id": "ljAgemQih9YH",
        "outputId": "c5bc4539-b628-470b-f142-92c6c044fb65"
      },
      "outputs": [
        {
          "ename": "NameError",
          "evalue": "ignored",
          "output_type": "error",
          "traceback": [
            "\u001b[0;31m---------------------------------------------------------------------------\u001b[0m",
            "\u001b[0;31mNameError\u001b[0m                                 Traceback (most recent call last)",
            "\u001b[0;32m<ipython-input-65-c9ed28349173>\u001b[0m in \u001b[0;36m<module>\u001b[0;34m()\u001b[0m\n\u001b[1;32m      7\u001b[0m \u001b[0mplt\u001b[0m\u001b[0;34m.\u001b[0m\u001b[0mfigure\u001b[0m\u001b[0;34m(\u001b[0m\u001b[0mfigsize\u001b[0m\u001b[0;34m=\u001b[0m\u001b[0;34m(\u001b[0m\u001b[0;36m20\u001b[0m\u001b[0;34m,\u001b[0m \u001b[0;36m12\u001b[0m\u001b[0;34m)\u001b[0m\u001b[0;34m)\u001b[0m\u001b[0;34m\u001b[0m\u001b[0;34m\u001b[0m\u001b[0m\n\u001b[1;32m      8\u001b[0m sns.scatterplot(x=\"comp-1\", y=\"comp-2\", hue=zdf.y.tolist(),\n\u001b[0;32m----> 9\u001b[0;31m                 \u001b[0mpalette\u001b[0m\u001b[0;34m=\u001b[0m\u001b[0msns\u001b[0m\u001b[0;34m.\u001b[0m\u001b[0mcolor_palette\u001b[0m\u001b[0;34m(\u001b[0m\u001b[0mcc\u001b[0m\u001b[0;34m.\u001b[0m\u001b[0mglasbey\u001b[0m\u001b[0;34m,\u001b[0m \u001b[0my\u001b[0m\u001b[0;34m.\u001b[0m\u001b[0mnunique\u001b[0m\u001b[0;34m(\u001b[0m\u001b[0;34m)\u001b[0m\u001b[0;34m)\u001b[0m\u001b[0;34m,\u001b[0m\u001b[0;34m\u001b[0m\u001b[0;34m\u001b[0m\u001b[0m\n\u001b[0m\u001b[1;32m     10\u001b[0m                 data=zdf).set(title=\"NSL-KDD T-SNE projection\") \n\u001b[1;32m     11\u001b[0m \u001b[0;34m\u001b[0m\u001b[0m\n",
            "\u001b[0;31mNameError\u001b[0m: name 'y' is not defined"
          ]
        },
        {
          "data": {
            "text/plain": [
              "<Figure size 1440x864 with 0 Axes>"
            ]
          },
          "metadata": {},
          "output_type": "display_data"
        }
      ],
      "source": [
        "# y = df['cluster']\n",
        "zdf = pd.DataFrame()\n",
        "zdf[\"y\"] = Y\n",
        "zdf[\"comp-1\"] = z[:,0]\n",
        "zdf[\"comp-2\"] = z[:,1]\n",
        "\n",
        "plt.figure(figsize=(20, 12))\n",
        "sns.scatterplot(x=\"comp-1\", y=\"comp-2\", hue=zdf.y.tolist(),\n",
        "                palette=sns.color_palette(cc.glasbey, y.nunique()),\n",
        "                data=zdf).set(title=\"NSL-KDD T-SNE projection\") \n",
        "\n",
        "plt.savefig(DATA_PATH+f'tsne-{rand_state}.png')"
      ]
    },
    {
      "cell_type": "code",
      "execution_count": null,
      "metadata": {
        "id": "TDGQlYbGooyW"
      },
      "outputs": [],
      "source": [
        "# scaled\n",
        "y = df2['cluster']\n",
        "zdf_scaled = pd.DataFrame()\n",
        "zdf_scaled[\"y\"] = Y\n",
        "zdf_scaled[\"comp-1\"] = z_scaled[:,0]\n",
        "zdf_scaled[\"comp-2\"] = z_scaled[:,1]\n",
        "\n",
        "plt.figure(figsize=(20, 12))\n",
        "sns.scatterplot(x=\"comp-1\", y=\"comp-2\", hue=zdf_scaled.y.tolist(),\n",
        "                palette=sns.color_palette(cc.glasbey, y.nunique()),\n",
        "                data=zdf_scaled).set(title=\"NSL-KDD SCALED T-SNE projection\") \n",
        "plt.savefig(DATA_PATH+f'tsne-{rand_state}-scaled.png')"
      ]
    },
    {
      "cell_type": "markdown",
      "metadata": {
        "id": "Y-l2L4-qA-c8"
      },
      "source": [
        "# Kafka Stream Producer\n",
        "\n"
      ]
    },
    {
      "cell_type": "markdown",
      "metadata": {
        "id": "5ntLO2B0p5SV"
      },
      "source": [
        "## Input Stream for pyDenStream"
      ]
    },
    {
      "cell_type": "code",
      "execution_count": null,
      "metadata": {
        "id": "jSDf0BZ4o-HH"
      },
      "outputs": [],
      "source": [
        "import numpy as np"
      ]
    },
    {
      "cell_type": "code",
      "execution_count": null,
      "metadata": {
        "id": "2OA_UOIjpHV0"
      },
      "outputs": [],
      "source": [
        "num_samples = 100\n",
        "num_features = 2\n",
        "\n",
        "sigma = 0.1"
      ]
    },
    {
      "cell_type": "code",
      "execution_count": null,
      "metadata": {
        "id": "hszUh1-fo-1C"
      },
      "outputs": [],
      "source": [
        "# Generating test data\n",
        "\n",
        "np.random.seed(42)\n",
        "\n",
        "# Generating data for cluster 1.\n",
        "center_1 = np.array([1.0, 1.0]).reshape((1, num_features))\n",
        "x_1 = center_1 + np.random.normal(0.0, sigma, [num_samples, num_features])\n",
        "y_1 = np.repeat(0, num_samples).reshape((num_samples, 1))\n",
        "t_1 = np.linspace(1, 100, num=num_samples).reshape((num_samples, 1))\n",
        "\n",
        "# Generating data for cluster 2.\n",
        "center_2 = np.array([1.0, -1.0]).reshape((1, num_features))\n",
        "x_2 = center_2 + np.random.normal(0.0, sigma, [num_samples, num_features])\n",
        "y_2 = np.repeat(1, num_samples).reshape((num_samples, 1))\n",
        "t_2 = np.linspace(101, 200, num=num_samples).reshape((num_samples, 1))\n",
        "\n",
        "# Generating data for cluster 3.\n",
        "center_3 = np.array([-1.0, -1.0]).reshape((1, num_features))\n",
        "x_3 = center_3 + np.random.normal(0.0, sigma, [num_samples, num_features])\n",
        "y_3 = np.repeat(2, num_samples).reshape((num_samples, 1))\n",
        "t_3 = np.linspace(51, 150, num=num_samples).reshape((num_samples, 1))\n",
        "\n",
        "# Generating data for cluster 4.\n",
        "center_4 = np.array([-1.0, 1.0]).reshape((1, num_features))\n",
        "x_4 = center_4 + np.random.normal(0.0, sigma, [num_samples, num_features])\n",
        "y_4 = np.repeat(3, num_samples).reshape((num_samples, 1))\n",
        "t_4 = np.linspace(51, 150, num=num_samples).reshape((num_samples, 1))\n",
        "\n",
        "X = np.concatenate([x_1, x_2, x_3, x_4], axis=0).astype(float)\n",
        "Y = np.concatenate([y_1, y_2, y_3, y_4], axis=0).astype(int)\n",
        "T = np.concatenate([t_1, t_2, t_3, t_4], axis=0).astype(int)\n",
        "\n",
        "# Sorting data s.t. they come in time order.\n",
        "idx = np.argsort(T, axis=0).reshape(T.shape[0],)\n",
        "X = X[idx, :]\n",
        "Y = Y[idx, :]\n",
        "T = T[idx, :]"
      ]
    },
    {
      "cell_type": "code",
      "execution_count": null,
      "metadata": {
        "id": "R-kEo1qN7Hr0"
      },
      "outputs": [],
      "source": [
        "dd = ['-0.11354840373626408', '-0.009888657207779367', '-0.03930900525595726', '-0.008910299337739708', '-0.09122136504337669', '-0.0063004080276369435', '-0.09193152797180429', '-0.026219769982544758', '-0.807609787797152', '-0.021872171578008325', '-0.039375745398740974', '-0.02766492418726678', '-0.02172373325676766', '-0.02780746500248676', '-0.018904226064123595', '-0.04391591310971378', '', '', '-0.09598770513349468', '-0.7202293041337874', '-0.3546209051863896', '-0.6401293050536373', '-0.6339655896963234', '-0.3721782160049241', '-0.3730909421766657', '0.7720933378224009', '-0.3492750103829506', '-0.37387866035601564', '-0.3286270696101938', '-0.8139683650869229', '-0.7791414317434174', '-0.28066772665993234', '0.07311828800458804', '-0.2879877479897399', '-0.6417913327308392', '-0.627352295451972', '-0.22166365605050056', '-0.3742733197216746', 'normal']"
      ]
    },
    {
      "cell_type": "code",
      "execution_count": null,
      "metadata": {
        "colab": {
          "base_uri": "https://localhost:8080/"
        },
        "id": "luBffJOG7rYk",
        "outputId": "4c9da350-113b-46ca-84fe-73f2038d30f2"
      },
      "outputs": [
        {
          "data": {
            "text/plain": [
              "['-0.11354840373626408',\n",
              " '-0.009888657207779367',\n",
              " '-0.03930900525595726',\n",
              " '-0.008910299337739708',\n",
              " '-0.09122136504337669',\n",
              " '-0.0063004080276369435',\n",
              " '-0.09193152797180429',\n",
              " '-0.026219769982544758',\n",
              " '-0.807609787797152',\n",
              " '-0.021872171578008325',\n",
              " '-0.039375745398740974',\n",
              " '-0.02766492418726678',\n",
              " '-0.02172373325676766',\n",
              " '-0.02780746500248676',\n",
              " '-0.018904226064123595',\n",
              " '-0.04391591310971378',\n",
              " '',\n",
              " '',\n",
              " '-0.09598770513349468',\n",
              " '-0.7202293041337874',\n",
              " '-0.3546209051863896',\n",
              " '-0.6401293050536373',\n",
              " '-0.6339655896963234',\n",
              " '-0.3721782160049241',\n",
              " '-0.3730909421766657',\n",
              " '0.7720933378224009',\n",
              " '-0.3492750103829506',\n",
              " '-0.37387866035601564',\n",
              " '-0.3286270696101938',\n",
              " '-0.8139683650869229',\n",
              " '-0.7791414317434174',\n",
              " '-0.28066772665993234',\n",
              " '0.07311828800458804',\n",
              " '-0.2879877479897399',\n",
              " '-0.6417913327308392',\n",
              " '-0.627352295451972',\n",
              " '-0.22166365605050056',\n",
              " '-0.3742733197216746',\n",
              " 'normal']"
            ]
          },
          "execution_count": 177,
          "metadata": {},
          "output_type": "execute_result"
        }
      ],
      "source": []
    },
    {
      "cell_type": "code",
      "execution_count": null,
      "metadata": {
        "id": "qsBWiUGVsi3B"
      },
      "outputs": [],
      "source": [
        "ddf = pd.DataFrame(dd).replace('', np.nan, inplace=True)\n",
        "ddf"
      ]
    },
    {
      "cell_type": "code",
      "execution_count": null,
      "metadata": {
        "colab": {
          "base_uri": "https://localhost:8080/"
        },
        "id": "C_y1cVJbtCtS",
        "outputId": "d58a497f-f7e7-4bf5-9ba6-6b859977c7c9"
      },
      "outputs": [
        {
          "data": {
            "text/plain": [
              "numpy.ndarray"
            ]
          },
          "execution_count": 87,
          "metadata": {},
          "output_type": "execute_result"
        }
      ],
      "source": [
        "type(X[1, :].reshape(1, X.shape[1]))"
      ]
    },
    {
      "cell_type": "code",
      "execution_count": null,
      "metadata": {
        "colab": {
          "base_uri": "https://localhost:8080/"
        },
        "id": "dxxaWh1atEIl",
        "outputId": "8d9014cf-4842-45b2-fc42-26fef3ab7aa1"
      },
      "outputs": [
        {
          "data": {
            "text/plain": [
              "numpy.ndarray"
            ]
          },
          "execution_count": 88,
          "metadata": {},
          "output_type": "execute_result"
        }
      ],
      "source": [
        "type(Z.reshape(1, Z.shape[0]))"
      ]
    },
    {
      "cell_type": "code",
      "execution_count": null,
      "metadata": {
        "colab": {
          "base_uri": "https://localhost:8080/"
        },
        "id": "BOWgGwfytL_3",
        "outputId": "d6576e28-8793-43ca-8ea1-0bcde15b91a8"
      },
      "outputs": [
        {
          "data": {
            "text/plain": [
              "array([[1.06476885, 1.15230299]])"
            ]
          },
          "execution_count": 93,
          "metadata": {},
          "output_type": "execute_result"
        }
      ],
      "source": [
        "X[1, :].reshape(1, X.shape[1])"
      ]
    },
    {
      "cell_type": "code",
      "execution_count": null,
      "metadata": {
        "colab": {
          "base_uri": "https://localhost:8080/"
        },
        "id": "wtHxo52ssWuF",
        "outputId": "398fbf08-3316-48e2-adf8-187098f4fa07"
      },
      "outputs": [
        {
          "data": {
            "text/plain": [
              "array([1.06476885, 1.15230299])"
            ]
          },
          "execution_count": 92,
          "metadata": {},
          "output_type": "execute_result"
        }
      ],
      "source": [
        "X[1, :]"
      ]
    },
    {
      "cell_type": "code",
      "execution_count": null,
      "metadata": {
        "colab": {
          "base_uri": "https://localhost:8080/"
        },
        "id": "suzS6OCPsQZK",
        "outputId": "363728cf-514f-4b6c-c3b5-390aa134e245"
      },
      "outputs": [
        {
          "data": {
            "text/plain": [
              "array([['0', 'tcp', 'ftp_data', 'SF', '491', '0', '0', '0', '0', '0',\n",
              "        '0', '0', '0', '0', '0', '0', '0', '0', '0', '0', '0', '0', '2',\n",
              "        '2', '0.00', '0.00', '0.00', '0.00', '1.00', '0.00', '0.00',\n",
              "        '150', '25', '0.17', '0.03', '0.17', '0.00', '0.00', '0.00',\n",
              "        '0.05']], dtype='<U8')"
            ]
          },
          "execution_count": 84,
          "metadata": {},
          "output_type": "execute_result"
        }
      ],
      "source": [
        "Z.reshape(1, Z.shape[0])"
      ]
    },
    {
      "cell_type": "code",
      "execution_count": null,
      "metadata": {
        "colab": {
          "base_uri": "https://localhost:8080/"
        },
        "id": "zE_fdLbnsLdF",
        "outputId": "854fa310-bcc8-4e41-fda2-6a22d9f702ad"
      },
      "outputs": [
        {
          "data": {
            "text/plain": [
              "array([[1.04967142, 0.98617357]])"
            ]
          },
          "execution_count": 72,
          "metadata": {},
          "output_type": "execute_result"
        }
      ],
      "source": [
        "X[0, :].reshape((1, X.shape[1]))"
      ]
    },
    {
      "cell_type": "code",
      "execution_count": null,
      "metadata": {
        "colab": {
          "base_uri": "https://localhost:8080/"
        },
        "id": "y69OrmvxsIvH",
        "outputId": "a7c71aba-3949-4015-a208-8747bd24681c"
      },
      "outputs": [
        {
          "data": {
            "text/plain": [
              "array([[ 1.04967142,  0.98617357],\n",
              "       [ 1.06476885,  1.15230299],\n",
              "       [ 0.97658466,  0.9765863 ],\n",
              "       [ 1.15792128,  1.07674347],\n",
              "       [ 0.95305256,  1.054256  ],\n",
              "       [ 0.95365823,  0.95342702],\n",
              "       [ 1.02419623,  0.80867198],\n",
              "       [ 0.82750822,  0.94377125],\n",
              "       [ 0.89871689,  1.03142473],\n",
              "       [ 0.90919759,  0.85876963],\n",
              "       [ 1.14656488,  0.97742237],\n",
              "       [ 1.00675282,  0.85752518],\n",
              "       [ 0.94556173,  1.01109226],\n",
              "       [ 0.88490064,  1.0375698 ],\n",
              "       [ 0.93993613,  0.97083063],\n",
              "       [ 0.93982934,  1.18522782],\n",
              "       [ 0.99865028,  0.89422891],\n",
              "       [ 1.08225449,  0.87791564],\n",
              "       [ 1.02088636,  0.80403299],\n",
              "       [ 0.8671814 ,  1.01968612],\n",
              "       [ 1.07384666,  1.01713683],\n",
              "       [ 0.98843517,  0.96988963],\n",
              "       [ 0.8521478 ,  0.92801558],\n",
              "       [ 0.95393612,  1.10571222],\n",
              "       [ 1.03436183,  0.82369598],\n",
              "       [ 1.0324084 ,  0.96149177],\n",
              "       [ 0.9323078 ,  1.06116763],\n",
              "       [ 1.10309995,  1.09312801],\n",
              "       [ 0.91607825,  0.96907876],\n",
              "       [ 1.03312634,  1.09755451],\n",
              "       [ 0.95208258,  0.9814341 ],\n",
              "       [ 0.8893665 ,  0.88037934],\n",
              "       [ 1.08125258,  1.135624  ],\n",
              "       [ 0.99279899,  1.10035329],\n",
              "       [ 1.0361636 ,  0.93548802],\n",
              "       [ 1.03613956,  1.15380366],\n",
              "       [ 0.9964174 ,  1.15646437],\n",
              "       [ 0.73802549,  1.08219025],\n",
              "       [ 1.00870471,  0.97009926],\n",
              "       [ 1.00917608,  0.80124311],\n",
              "       [ 0.97803281,  1.03571126],\n",
              "       [ 1.1477894 ,  0.94817298],\n",
              "       [ 0.91915064,  0.9498243 ],\n",
              "       [ 1.09154021,  1.03287511],\n",
              "       [ 0.94702398,  1.05132674],\n",
              "       [ 1.00970775,  1.0968645 ],\n",
              "       [ 0.92979469,  0.96723379],\n",
              "       [ 0.96078918,  0.85364851],\n",
              "       [ 1.02961203,  1.02610553],\n",
              "       [ 1.00051135,  0.97654129],\n",
              "       [-0.92430114,  0.90778347],\n",
              "       [-1.15944277, -1.0599375 ],\n",
              "       [ 0.85846293,  0.95793547],\n",
              "       [ 0.96572855,  0.91977227],\n",
              "       [-0.99947563, -0.99530194],\n",
              "       [-0.91303941,  1.13556379],\n",
              "       [-0.95865651,  1.18767958],\n",
              "       [-1.04500655, -0.93771501],\n",
              "       [ 0.98387143,  1.04040509],\n",
              "       [-1.07737892,  0.87553453],\n",
              "       [ 1.18861859,  1.01745778],\n",
              "       [-1.10676204, -1.01423795],\n",
              "       [ 1.02575504,  0.99255541],\n",
              "       [-1.17787202,  1.14960443],\n",
              "       [-0.98797044, -0.94855612],\n",
              "       [-0.93456343,  0.99444153],\n",
              "       [ 0.80812288,  0.99734861],\n",
              "       [-0.92883851, -1.11246421],\n",
              "       [-1.15341142, -0.87223232],\n",
              "       [-0.97200314,  0.8874511 ],\n",
              "       [ 1.00602302,  1.24632421],\n",
              "       [-0.7554248 ,  1.01292212],\n",
              "       [ 0.9807639 ,  1.03015473],\n",
              "       [-0.9667686 , -1.07484865],\n",
              "       [-0.98906052,  1.07257666],\n",
              "       [ 0.99652882,  0.8831322 ],\n",
              "       [-0.8448848 , -0.98843254],\n",
              "       [ 1.11428228,  1.0751933 ],\n",
              "       [-0.95189908,  1.0223884 ],\n",
              "       [-0.88207028, -0.99324815],\n",
              "       [-0.79392521, -0.82446592],\n",
              "       [-1.07904745,  1.04714684],\n",
              "       [ 1.07910319,  0.90906125],\n",
              "       [-1.02489641, -0.9028429 ],\n",
              "       [-0.81179755,  1.134542  ],\n",
              "       [ 1.14027943,  0.85981489],\n",
              "       [-0.84068134,  0.94887843],\n",
              "       [ 1.05868571,  1.21904556],\n",
              "       [-0.93546241, -0.86313684],\n",
              "       [-1.09896048,  0.98742131],\n",
              "       [-1.09649235, -0.93139485],\n",
              "       [ 0.90094637,  0.94337023],\n",
              "       [-0.89415755, -1.17587395],\n",
              "       [-0.99442751,  1.10941915],\n",
              "       [ 1.00996514,  0.94965243],\n",
              "       [-1.16924646,  1.15295503],\n",
              "       [-1.11832585, -1.20392322],\n",
              "       [ 0.84493366,  1.0068563 ],\n",
              "       [ 0.89376963,  1.04735924],\n",
              "       [-1.01580079,  0.95731189],\n",
              "       [-1.02694068, -0.92824577],\n",
              "       [ 0.90805758,  1.15499344],\n",
              "       [-0.84976429, -0.99259052],\n",
              "       [-1.10121044,  0.83451433],\n",
              "       [ 0.92167467,  0.96779385],\n",
              "       [-0.83713845, -1.13801015],\n",
              "       [-0.91768294,  1.0073318 ],\n",
              "       [ 1.08135172,  0.87691357],\n",
              "       [-1.12899609,  0.87049212],\n",
              "       [-1.17033824, -1.00555477],\n",
              "       [-0.96159346, -1.00326947],\n",
              "       [-1.03357847,  1.16690215],\n",
              "       [ 1.02274599,  1.13071428],\n",
              "       [-1.02595914,  0.8496857 ],\n",
              "       [-1.20674421, -1.008912  ],\n",
              "       [ 0.83925168,  1.01846339],\n",
              "       [-1.02457431,  0.97272764],\n",
              "       [ 1.02598828,  1.07818229],\n",
              "       [-1.13044695, -0.93303275],\n",
              "       [-0.96334018, -1.09398798],\n",
              "       [-1.26968866,  0.99457051],\n",
              "       [ 0.87630493,  0.86795434],\n",
              "       [ 1.05219416,  1.02969847],\n",
              "       [-1.02309345,  1.06962064],\n",
              "       [-1.05138669, -1.10592135],\n",
              "       [ 1.02504929,  1.03464482],\n",
              "       [-0.81510439,  1.1126565 ],\n",
              "       [-1.00626791, -0.90448577],\n",
              "       [-1.0985726 , -0.94959535],\n",
              "       [ 0.93199753,  1.02322537],\n",
              "       [-1.02688887,  0.88934741],\n",
              "       [-0.74266402,  1.00592184],\n",
              "       [-1.05302576, -1.07928728],\n",
              "       [ 1.02930725,  0.92856486],\n",
              "       [-1.01070304, -1.10352423],\n",
              "       [-0.99860707,  0.99758749],\n",
              "       [ 1.18657745,  1.04738329],\n",
              "       [ 0.88086965,  1.06565536],\n",
              "       [-1.05536493, -1.11978779],\n",
              "       [-0.98019152,  0.98556396],\n",
              "       [ 0.90253183,  1.07870846],\n",
              "       [-1.0573662 ,  0.94531411],\n",
              "       [-0.80352749, -0.99647364],\n",
              "       [ 1.11585956,  0.91793177],\n",
              "       [-1.06997255, -0.97860201],\n",
              "       [-1.00327533,  0.94565752],\n",
              "       [-1.0112328 , -1.02209696],\n",
              "       [-1.07128458,  1.01064302],\n",
              "       [ 1.09633761,  1.04127809],\n",
              "       [-0.93858333, -0.92424923],\n",
              "       [ 1.08220602,  1.1896793 ],\n",
              "       [-1.02549772,  1.1503993 ],\n",
              "       [-1.26509698,  1.10915069],\n",
              "       [-1.05305011, -1.05758182],\n",
              "       [ 0.97546119,  0.92462638],\n",
              "       [-0.87539148,  0.79266098],\n",
              "       [-1.02750517, -1.23019212],\n",
              "       [ 0.91104856,  0.91841897],\n",
              "       [-1.15151911, -0.86331257],\n",
              "       [ 0.99228983,  1.0341152 ],\n",
              "       [-1.03426876,  0.96285591],\n",
              "       [ 1.02766908,  1.08271832],\n",
              "       [-0.83550323, -1.0249036 ],\n",
              "       [-1.14075117,  0.92221833],\n",
              "       [-1.11105758,  1.17522704],\n",
              "       [ 1.00130019,  1.14535341],\n",
              "       [-0.9423443 , -0.96887498],\n",
              "       [-0.69211192, -0.88804251],\n",
              "       [-0.90643216,  1.12715551],\n",
              "       [ 0.97353432,  1.27201692],\n",
              "       [-1.01279176, -1.09555404],\n",
              "       [-0.92783279,  0.88709482],\n",
              "       [ 1.06256673,  0.91428424],\n",
              "       [-1.05245203,  1.04893746],\n",
              "       [ 0.89291075,  1.04824724],\n",
              "       [-1.16064463, -0.97965364],\n",
              "       [ 0.97765372,  1.07140005],\n",
              "       [-1.12221278,  1.07129984],\n",
              "       [-1.07563507, -1.14222537],\n",
              "       [ 1.04732376,  0.99271711],\n",
              "       [-1.02403254,  0.96251792],\n",
              "       [-1.06465729, -1.1081548 ],\n",
              "       [-0.928904  ,  1.04442633],\n",
              "       [-0.83128584, -0.91183602],\n",
              "       [ 0.91532063,  0.84851528],\n",
              "       [ 0.9553485 ,  1.08563988],\n",
              "       [-1.00079726, -0.85200559],\n",
              "       [-1.03609662,  1.11593298],\n",
              "       [-0.99226317, -1.08612842],\n",
              "       [-1.10810633,  1.06159356],\n",
              "       [ 1.02140937,  0.87542612],\n",
              "       [-0.94068987,  0.96904536],\n",
              "       [-0.84768759, -0.946109  ],\n",
              "       [ 1.01731809,  1.03853174],\n",
              "       [-1.10372462, -1.01903387],\n",
              "       [-0.9673867 ,  0.87488864],\n",
              "       [ 0.91161426,  1.01537251],\n",
              "       [-0.9075973 ,  0.98150979],\n",
              "       [-1.08756183, -1.13827997],\n",
              "       [ 1.00582087,  0.88570297],\n",
              "       [-0.90738225, -0.80905834],\n",
              "       [ 1.03577874, -0.94392155],\n",
              "       [-1.0522723 ,  1.10490092],\n",
              "       [-1.07043437,  0.85915387],\n",
              "       [-1.13985676, -0.94370308],\n",
              "       [ 1.10830512, -0.89461979],\n",
              "       [-1.15566292,  1.060601  ],\n",
              "       [ 0.86223306, -1.0937825 ],\n",
              "       [-1.06506426, -1.04871254],\n",
              "       [-1.12804294,  1.17547942],\n",
              "       [ 1.05150353, -0.9486214 ],\n",
              "       [-1.05923939, -1.08639908],\n",
              "       [-0.99514784, -1.08309501],\n",
              "       [ 1.05150477, -0.61472685],\n",
              "       [-1.20819294,  1.16964564],\n",
              "       [-0.97295432, -1.00502381],\n",
              "       [-0.97889825,  0.99032869],\n",
              "       [ 1.05708905, -0.88644344],\n",
              "       [-1.0238948 , -1.09075637],\n",
              "       [-1.05449191,  1.03991361],\n",
              "       [ 1.09540018, -0.93486087],\n",
              "       [ 0.96847308, -0.92410308],\n",
              "       [-1.05767713, -0.92446088],\n",
              "       [-1.00376347,  1.11033019],\n",
              "       [ 0.92271748, -1.02368186],\n",
              "       [-0.98857724,  1.01503018],\n",
              "       [-0.94990828, -1.09775552],\n",
              "       [-1.03636122,  0.99430544],\n",
              "       [-0.99006677, -0.92486129],\n",
              "       [ 0.95146365, -0.99181259],\n",
              "       [ 1.23146586, -1.18672652],\n",
              "       [-0.96921982,  0.82898316],\n",
              "       [-1.16694053, -0.94566398],\n",
              "       [-1.13481854,  1.07432641],\n",
              "       [ 1.06862602, -1.16127159],\n",
              "       [-1.06626238, -0.94294013],\n",
              "       [-0.98291346,  0.98160167],\n",
              "       [-1.07632592, -1.18048821],\n",
              "       [ 0.95280681, -0.89110494],\n",
              "       [ 1.006428  , -1.10777448],\n",
              "       [-0.99815661,  1.03475817],\n",
              "       [-1.16275424, -0.99519151],\n",
              "       [-1.05397597,  0.92216953],\n",
              "       [-0.97402775, -1.09043166],\n",
              "       [ 0.92846963, -0.93204023],\n",
              "       [-0.98041547,  0.90216272],\n",
              "       [-0.93614075, -1.16615201],\n",
              "       [ 0.92696334, -0.97835414],\n",
              "       [-1.00660798, -1.12110162],\n",
              "       [-0.95917472,  0.82974164],\n",
              "       [ 1.00455718, -1.06516003],\n",
              "       [-1.06518361, -0.99526013],\n",
              "       [-0.89708444,  1.04725975],\n",
              "       [ 1.21439441, -0.9366081 ],\n",
              "       [ 0.79748574, -0.98135457],\n",
              "       [-1.08604134, -1.03845555],\n",
              "       [-0.97439703,  1.0982691 ],\n",
              "       [-0.83345256,  1.10143701],\n",
              "       [ 0.93382135, -0.91475667],\n",
              "       [-0.89937072, -1.05768919],\n",
              "       [-1.18408742,  0.8720423 ],\n",
              "       [ 0.92074793, -1.01147364],\n",
              "       [-0.91643079, -1.11297069],\n",
              "       [-1.06248186,  1.00260911],\n",
              "       [ 1.05049873, -0.91342448],\n",
              "       [-0.94701958, -0.85584314],\n",
              "       [-0.9482341 ,  0.92742562],\n",
              "       [ 0.87997036, -1.03345012],\n",
              "       [-1.24716445, -1.07968953],\n",
              "       [-0.98132332,  0.92446171],\n",
              "       [-0.94229279, -1.02030454],\n",
              "       [ 0.95250547, -1.06533292],\n",
              "       [-0.96288541, -1.06039852],\n",
              "       [ 1.17654542, -0.95950183],\n",
              "       [-1.06115178,  0.85933389],\n",
              "       [ 0.8739116 , -0.90821381],\n",
              "       [-0.99134102, -1.01556772],\n",
              "       [-1.09232332,  0.86483154],\n",
              "       [-0.88322179, -0.97455792],\n",
              "       [-1.09758733,  1.10536418],\n",
              "       [ 1.21221562, -0.89675347],\n",
              "       [-1.09493989,  1.26323821],\n",
              "       [-0.96623973, -1.0411877 ],\n",
              "       [ 0.848063  , -1.04842341],\n",
              "       [ 1.12669111, -1.07076695],\n",
              "       [-1.04876062, -1.04325582],\n",
              "       [-0.95066821,  1.01848361],\n",
              "       [-0.96055479, -1.04209845],\n",
              "       [ 1.04438194, -0.92253659],\n",
              "       [-1.08583578,  1.07003099],\n",
              "       [ 0.90730695, -1.00595254],\n",
              "       [-0.97102251, -0.79245992],\n",
              "       [-1.05756378,  1.01220098],\n",
              "       [ 0.67587327, -1.10243876],\n",
              "       [-0.74399155,  0.99039401],\n",
              "       [-0.91288753, -1.03260235],\n",
              "       [-0.88507267,  0.92968236],\n",
              "       [-0.87987861, -1.04080754],\n",
              "       [ 0.97474318, -1.12477832],\n",
              "       [-1.00349885,  1.17708006],\n",
              "       [-1.20381245, -1.10080863],\n",
              "       [ 1.16324113, -1.14301414],\n",
              "       [-1.06269671,  1.18124486],\n",
              "       [ 0.95599555, -0.98692594],\n",
              "       [-1.18707919, -1.03515135],\n",
              "       [-0.99815816, -0.83235627],\n",
              "       [ 1.14412733, -1.14358622],\n",
              "       [-0.92922481,  0.94375332],\n",
              "       [-0.93675923,  1.09725544],\n",
              "       [ 1.11631638, -0.99897669],\n",
              "       [-0.96730726, -1.02191005],\n",
              "       [ 0.90184913, -0.95378965],\n",
              "       [-0.937819  ,  0.84297753],\n",
              "       [-0.91705944, -1.22111353],\n",
              "       [ 1.01990597, -1.06002169],\n",
              "       [-1.07271372,  0.97524814],\n",
              "       [-0.97643854, -0.92291348],\n",
              "       [-1.00744334,  1.06206721],\n",
              "       [ 1.00698021, -1.03853136],\n",
              "       [-1.14785862, -0.8856246 ],\n",
              "       [ 1.01135173, -0.93378693],\n",
              "       [-0.9822299 ,  0.86646556],\n",
              "       [-0.96615036, -1.04152879],\n",
              "       [-0.96198021,  1.06105857],\n",
              "       [ 1.15860168, -1.12378155],\n",
              "       [-0.93672181, -0.77293071],\n",
              "       [-0.98181337, -0.97517794],\n",
              "       [-0.94402096,  1.10807807],\n",
              "       [ 1.21330334, -1.19520878],\n",
              "       [ 0.98482149, -0.94116828],\n",
              "       [-1.04593609, -1.08498444],\n",
              "       [-0.91660778,  1.04591801],\n",
              "       [ 1.02809919, -1.06226995],\n",
              "       [-1.00701657,  0.83390391],\n",
              "       [-0.91696642, -1.08560838],\n",
              "       [-0.95703818,  1.02076877],\n",
              "       [ 0.97918777, -1.04930009],\n",
              "       [-0.99284338, -1.04776574],\n",
              "       [-0.97284212,  0.87232514],\n",
              "       [ 0.94106352, -0.91503979],\n",
              "       [-0.95210202, -0.96663379],\n",
              "       [-0.89624601, -1.05100164],\n",
              "       [ 1.03570155, -1.06929096],\n",
              "       [-1.10810565,  1.10531529],\n",
              "       [ 1.08995999, -0.96927005],\n",
              "       [-1.00395552,  1.06815007],\n",
              "       [-1.02698749, -1.09787637],\n",
              "       [-0.99716816,  1.00297561],\n",
              "       [ 1.08128621, -0.93703712],\n",
              "       [-1.04442933, -0.96226995],\n",
              "       [ 0.9171005 , -1.0560181 ],\n",
              "       [ 1.07472936, -0.93896297],\n",
              "       [ 0.99790984, -0.98826726],\n",
              "       [ 1.12776649, -1.05915714],\n",
              "       [ 1.05470974, -1.02021927],\n",
              "       [ 0.97823188, -0.89012231],\n",
              "       [ 1.08254163, -0.91864904],\n",
              "       [ 1.13054788, -0.99789962],\n",
              "       [ 1.0681953 , -1.03102668],\n",
              "       [ 1.03241664, -1.01301431],\n",
              "       [ 1.0096996 , -0.9404843 ],\n",
              "       [ 0.91817793, -0.79076127],\n",
              "       [ 0.89939826, -1.12141886],\n",
              "       [ 1.11581109, -0.92083373],\n",
              "       [ 1.06241198, -0.93716545],\n",
              "       [ 0.99877532, -1.08972544],\n",
              "       [ 1.00758046, -1.06771617],\n",
              "       [ 1.09751197, -1.01470574],\n",
              "       [ 0.91745028, -1.03213858],\n",
              "       [ 1.04129315, -1.05637246],\n",
              "       [ 0.91777796, -0.97563128],\n",
              "       [ 1.02449666, -1.05069432],\n",
              "       [ 0.95289617, -0.97679501],\n",
              "       [ 0.85519157, -1.14074638],\n",
              "       [ 0.92815558, -1.02134472],\n",
              "       [ 1.03109076, -0.85246438],\n",
              "       [ 1.08576596, -1.01599385],\n",
              "       [ 0.99809838, -1.10025294],\n",
              "       [ 0.99814869, -1.02886586],\n",
              "       [ 1.03227186, -1.08272309],\n",
              "       [ 1.05193465, -0.84672611],\n",
              "       [ 0.98912399, -0.95982883],\n",
              "       [ 1.0690144 , -1.04012205],\n",
              "       [ 1.02240925, -0.99874076],\n",
              "       [ 1.00976761, -1.07730098],\n",
              "       [ 1.00245102, -0.95020017],\n",
              "       [ 1.14511436, -0.90407292],\n",
              "       [ 1.21531825, -1.07673476],\n",
              "       [ 1.08723206, -0.9816658 ],\n",
              "       [ 1.21898029, -1.08082983],\n",
              "       [ 0.91602782, -1.05993926],\n",
              "       [ 0.78761043, -1.0525755 ],\n",
              "       [ 0.92408673, -0.98496062],\n",
              "       [ 1.0341756 , -0.81238292],\n",
              "       [ 1.09504238, -1.05769037],\n",
              "       [ 0.91015853, -0.95080808],\n",
              "       [ 0.86797668, -0.81685412],\n",
              "       [ 1.11794401, -1.04691757],\n",
              "       [ 0.82868655, -0.86461276],\n",
              "       [ 0.98854602, -0.87621837]])"
            ]
          },
          "execution_count": 70,
          "metadata": {},
          "output_type": "execute_result"
        }
      ],
      "source": [
        "X"
      ]
    },
    {
      "cell_type": "code",
      "execution_count": null,
      "metadata": {
        "colab": {
          "base_uri": "https://localhost:8080/"
        },
        "id": "2kD-N82qr_8Z",
        "outputId": "6a6af4ec-3d04-426f-96b5-f738bdf6ded6"
      },
      "outputs": [
        {
          "data": {
            "text/plain": [
              "(400, 2)"
            ]
          },
          "execution_count": 69,
          "metadata": {},
          "output_type": "execute_result"
        }
      ],
      "source": [
        "X.shape"
      ]
    },
    {
      "cell_type": "code",
      "execution_count": null,
      "metadata": {
        "colab": {
          "base_uri": "https://localhost:8080/"
        },
        "id": "REyGdeuLpaaR",
        "outputId": "ec4def09-8a02-4a69-9c2b-01264a5d5d9b"
      },
      "outputs": [
        {
          "data": {
            "text/plain": [
              "array([1.06476885, 1.15230299])"
            ]
          },
          "execution_count": 11,
          "metadata": {},
          "output_type": "execute_result"
        }
      ],
      "source": [
        "X[1,:]"
      ]
    },
    {
      "cell_type": "code",
      "execution_count": null,
      "metadata": {
        "colab": {
          "base_uri": "https://localhost:8080/"
        },
        "id": "9zBJnFj_pUQ6",
        "outputId": "ea42092f-95fe-460c-c6fa-3e3f5a51613d"
      },
      "outputs": [
        {
          "data": {
            "text/plain": [
              "array([[1.06476885, 1.15230299]])"
            ]
          },
          "execution_count": 10,
          "metadata": {},
          "output_type": "execute_result"
        }
      ],
      "source": [
        "X[1,:].reshape((1, X.shape[1]))"
      ]
    },
    {
      "cell_type": "code",
      "execution_count": null,
      "metadata": {
        "colab": {
          "base_uri": "https://localhost:8080/"
        },
        "id": "DPTQT9-HwuIB",
        "outputId": "701d37fe-6523-4f75-deef-b5546682f016"
      },
      "outputs": [
        {
          "data": {
            "text/plain": [
              "{'back': 0,\n",
              " 'buffer_overflow': 1,\n",
              " 'ftp_write': 2,\n",
              " 'guess_passwd': 3,\n",
              " 'imap': 4,\n",
              " 'ipsweep': 5,\n",
              " 'land': 6,\n",
              " 'loadmodule': 7,\n",
              " 'multihop': 8,\n",
              " 'neptune': 9,\n",
              " 'nmap': 10,\n",
              " 'normal': 11,\n",
              " 'perl': 12,\n",
              " 'phf': 13,\n",
              " 'pod': 14,\n",
              " 'portsweep': 15,\n",
              " 'rootkit': 16,\n",
              " 'satan': 17,\n",
              " 'smurf': 18,\n",
              " 'spy': 19,\n",
              " 'teardrop': 20,\n",
              " 'warezclient': 21,\n",
              " 'warezmaster': 22}"
            ]
          },
          "execution_count": 137,
          "metadata": {},
          "output_type": "execute_result"
        }
      ],
      "source": [
        "{ x:i for i,x in enumerate(\"back,buffer_overflow,ftp_write,guess_passwd,imap,ipsweep,land,loadmodule,multihop,neptune,nmap,normal,perl,phf,pod,portsweep,rootkit,satan,smurf,spy,teardrop,warezclient,warezmaster\".split(\",\"))}"
      ]
    },
    {
      "cell_type": "code",
      "execution_count": null,
      "metadata": {
        "id": "AjB1LlhLwwYK"
      },
      "outputs": [],
      "source": []
    },
    {
      "cell_type": "code",
      "execution_count": null,
      "metadata": {
        "id": "WRS49rZrpl-F"
      },
      "outputs": [],
      "source": [
        "\n",
        "def file_reader(file_name):\n",
        "    \"\"\"Generator for reading the dataset. Call with next(gen) to get the next row.\"\"\"\n",
        "    for i, data in enumerate(open(file_name, \"r\")):\n",
        "        data = np.array(data.rstrip(\"\\n\").split(',')[:-1], dtype=object)#.astype(int)\n",
        "        print(data)\n",
        "        # data = list(map(lambda x: int(x), data))\n",
        "        yield {\n",
        "            \"time\" : int(i+1),\n",
        "            \"feature_array\" : data[:-2].reshape((1, data[:-2].shape[0])),\n",
        "            \"label\" : int(data[-2:-1]),\n",
        "        }"
      ]
    },
    {
      "cell_type": "code",
      "execution_count": null,
      "metadata": {
        "id": "dpSxirFbptps"
      },
      "outputs": [],
      "source": [
        "reader = file_reader(DATA_PATH+'KDDTrain+_20Percent.txt')"
      ]
    },
    {
      "cell_type": "code",
      "execution_count": null,
      "metadata": {
        "colab": {
          "base_uri": "https://localhost:8080/"
        },
        "id": "wzbwFKjep9Fm",
        "outputId": "7630b0a7-1213-42c3-e750-91faea12fb72"
      },
      "outputs": [
        {
          "name": "stdout",
          "output_type": "stream",
          "text": [
            "['0' 'tcp' 'ftp_data' 'SF' '491' '0' '0' '0' '0' '0' '0' '0' '0' '0' '0'\n",
            " '0' '0' '0' '0' '0' '0' '0' '2' '2' '0.00' '0.00' '0.00' '0.00' '1.00'\n",
            " '0.00' '0.00' '150' '25' '0.17' '0.03' '0.17' '0.00' '0.00' '0.00' '0.05'\n",
            " '0.00' 'normal']\n"
          ]
        },
        {
          "data": {
            "text/plain": [
              "{'feature_array': array([['0', 'tcp', 'ftp_data', 'SF', '491', '0', '0', '0', '0', '0',\n",
              "         '0', '0', '0', '0', '0', '0', '0', '0', '0', '0', '0', '0', '2',\n",
              "         '2', '0.00', '0.00', '0.00', '0.00', '1.00', '0.00', '0.00',\n",
              "         '150', '25', '0.17', '0.03', '0.17', '0.00', '0.00', '0.00',\n",
              "         '0.05']], dtype=object),\n",
              " 'label': array(['0.00'], dtype=object),\n",
              " 'time': 1}"
            ]
          },
          "execution_count": 133,
          "metadata": {},
          "output_type": "execute_result"
        }
      ],
      "source": [
        "next(reader)"
      ]
    },
    {
      "cell_type": "code",
      "execution_count": null,
      "metadata": {
        "id": "soTC5PW_BAAN"
      },
      "outputs": [],
      "source": [
        "# A generator like this is required for : https://github.com/MrParosk/pyDenStream\n",
        "# We can change it to populate Kafka topic at specific rate\n",
        "# and then reuse it for the comparison test\n",
        "\n",
        "def generator(X, Y, T):\n",
        "    \"\"\"\n",
        "    Creating generator used for fit_generator.\n",
        "    \"\"\"\n",
        "\n",
        "    for i in range(0, X.shape[0]):\n",
        "        yield {\n",
        "            \"time\": int(T[i, :]),\n",
        "            \"feature_array\": X[i, :].reshape((1, X.shape[1])),\n",
        "            \"label\": int(Y[i, :]),\n",
        "        }"
      ]
    },
    {
      "cell_type": "code",
      "execution_count": null,
      "metadata": {
        "id": "c5qy_D76q-RO"
      },
      "outputs": [],
      "source": [
        "gen = generator(X,Y,T)"
      ]
    },
    {
      "cell_type": "code",
      "execution_count": null,
      "metadata": {
        "colab": {
          "base_uri": "https://localhost:8080/"
        },
        "id": "3jR8N55wrJVn",
        "outputId": "65f0be77-b21d-47e0-844e-21e64899e70d"
      },
      "outputs": [
        {
          "data": {
            "text/plain": [
              "{'feature_array': array([[1.06476885, 1.15230299]]), 'label': 0, 'time': 2}"
            ]
          },
          "execution_count": 50,
          "metadata": {},
          "output_type": "execute_result"
        }
      ],
      "source": [
        "next(gen)"
      ]
    },
    {
      "cell_type": "markdown",
      "metadata": {
        "id": "MZWxRbwyqDNM"
      },
      "source": [
        "## Other:"
      ]
    },
    {
      "cell_type": "code",
      "execution_count": null,
      "metadata": {
        "id": "ckugt4LSO2oL"
      },
      "outputs": [],
      "source": [
        "def file_reader(file_name, convertToBytes=False):\n",
        "    \"\"\"Generator for reading the dataset. Call with next(gen) to get the next row.\"\"\"\n",
        "    for row in open(file_name, \"r\"):\n",
        "        if convertToBytes:\n",
        "            yield bytes(row.rstrip(\"\\n\"), encoding=\"utf-8\")\n",
        "        else:\n",
        "            yield row.rstrip(\"\\n\")"
      ]
    },
    {
      "cell_type": "markdown",
      "metadata": {
        "id": "u8cjgyLeVCrB"
      },
      "source": [
        "# Synthetic data\n"
      ]
    },
    {
      "cell_type": "code",
      "execution_count": null,
      "metadata": {
        "id": "xYO1vZglVDzo"
      },
      "outputs": [],
      "source": [
        "d = {'col1': range(10000), 'col2': range(10000),'col3': range(10000),'col4': range(10000),'col5': range(10000)}\n",
        "pd.DataFrame(data=d, index=range(10000)).to_csv(DATA_PATH+'blah.csv')"
      ]
    },
    {
      "cell_type": "code",
      "execution_count": null,
      "metadata": {
        "id": "wFk1tZOwVf25"
      },
      "outputs": [],
      "source": []
    },
    {
      "cell_type": "code",
      "execution_count": null,
      "metadata": {
        "colab": {
          "base_uri": "https://localhost:8080/",
          "height": 392
        },
        "id": "W51sNcxMRlig",
        "outputId": "7ae0c66c-fefb-4ee7-aafb-8bc07672ed99"
      },
      "outputs": [
        {
          "data": {
            "text/plain": [
              "<matplotlib.collections.PathCollection at 0x7effb3ff2590>"
            ]
          },
          "execution_count": 11,
          "metadata": {},
          "output_type": "execute_result"
        },
        {
          "data": {
            "image/png": "[encoded data removed]",
            "text/plain": [
              "<Figure size 432x432 with 1 Axes>"
            ]
          },
          "metadata": {
            "needs_background": "light"
          },
          "output_type": "display_data"
        }
      ],
      "source": [
        "import matplotlib.pyplot as plt\n",
        "import numpy as np\n",
        "\n",
        "# make data with easily identify\n",
        "X = [\n",
        "[-1, -0.5], [-1, -0.625], [-1, -0.75], [-1, -1], [-1, -1.125],\n",
        "[-1, -1.25], [-1.5, -0.5], [-1.5, -0.625], [-1.5, -0.75], [-1.5, -1],\n",
        "[-1.5, -1.125], [-1.5, -1.25], [1, 1.5], [1, 1.75], [1, 2],\n",
        "[4, 1.25], [4, 1.5], [4, 2.25], [4, 2.5], [4, 3],\n",
        "[4, 3.25], [4, 3.5], [4, 3.75], [4, 4],\n",
        "]\n",
        "x = [t[0] for t in X]\n",
        "y = [t[1] for t in X]\n",
        "\n",
        "plt.figure(figsize=(6, 6))\n",
        "plt.scatter(x, y)"
      ]
    },
    {
      "cell_type": "code",
      "execution_count": null,
      "metadata": {
        "id": "VXONggNWRxBR"
      },
      "outputs": [],
      "source": []
    }
  ],
  "metadata": {
    "colab": {
      "collapsed_sections": [
        "Y-l2L4-qA-c8",
        "5ntLO2B0p5SV"
      ],
      "name": "NSL-KDD.ipynb",
      "provenance": []
    },
    "kernelspec": {
      "display_name": "Python 3",
      "name": "python3"
    },
    "language_info": {
      "name": "python"
    }
  },
  "nbformat": 4,
  "nbformat_minor": 0
}
